{
 "cells": [
  {
   "cell_type": "markdown",
   "metadata": {},
   "source": [
    "# Fitting Parameters for Virus Model"
   ]
  },
  {
   "cell_type": "markdown",
   "metadata": {},
   "source": [
    "Analysis of the virus model.\n",
    "\n",
    " We will fit each of these patients separately, obtaining different values of parameters.\n",
    "\n",
    "**Fitting**\n",
    "\n",
    " There are 6 patients with one value to fit. So, there are 6 different fits.\n",
    "\n",
    "\n",
    " Influenza, SARS and SARS-CoV3 in Tellurium\n",
    "\n",
    "## A simple target cell-limited model, T ==> E ==> I --> produce V:\n",
    " T - number of target cells\n",
    " E - number of exposed cells (virus replicating inside, not yet spreading virus)\n",
    " I - number of infected cells (active virus production)\n",
    " V - viral titre, in units of TCID50/ml of biofluid wash (for Influenza)\n",
    "\n",
    "# The ODEs\n",
    " $\\frac{dT}{dt} = - \\beta T V$\n",
    " \n",
    " dE/dt =   beta*T*V - kappa*E;\n",
    " dI/dt =   kappa * E - delta*I;\n",
    " dV/dt =   p*y(I) - c*y(V);\n",
    "\n",
    " All viral data is in log10(load),...\n",
    " log10(load predicted by model) may be needed for data fitting\n",
    "\n",
    "\n",
    "Influenza.csv\n",
    " Influenza A data - 5 patients\n",
    " viral levels in log10(TCID50 / ml of nasal wash)\n",
    " time in days since volunteer exposure\n",
    " each line in the array is an individual volunteer\n",
    "\n",
    "\n",
    "\n",
    "SARS_CoV2_sputum.csv and SARS_CoV2_nasal.csv\n",
    " SARS-CoV-2 data - 9 patients,\n",
    " for each patient - viral loads from lungs (sputum) and from nasal cavity (swab)\n",
    " viral levels in log10(RNA copies / ml sputum), ...\n",
    " respectively log10(RNA copies / nasal swab)\n",
    " time in days since symptoms onset\n",
    " corresponding lines in the two arrays belong to an individual patient\n",
    "\n",
    "\n",
    "\n",
    "SARS.csv\n",
    " SARS data recorded from 12 patients;\n",
    " included them just for comparison, probably too few datapoints for model inference\n",
    "virus_analysis.py [python] format: unix; [1,1]                                                                                                                                   \n",
    "viral levels in log10(RNA copies / ml of nasopharingeal aspirate)\n",
    " time - only three samples per patient, at 5, 10 and 15 days post symptoms onset\n",
    "\"\"\""
   ]
  },
  {
   "cell_type": "markdown",
   "metadata": {},
   "source": [
    "# Imports\n",
    "import os\n",
    "import numpy as np\n",
    "import pandas as pd\n",
    "import matplotlib.pyplot as plt\n",
    "import SBstoat\n",
    "from SBstoat.modelStudy import ModelStudy\n",
    "%matplotlib inline"
   ]
  },
  {
   "cell_type": "markdown",
   "metadata": {},
   "source": [
    "## Antimony Model"
   ]
  },
  {
   "cell_type": "code",
   "execution_count": 2,
   "metadata": {},
   "outputs": [],
   "source": [
    "ANTIMONY_MODEL  = '''\n",
    "    // Equations\n",
    "    E1: T -> E ; beta*T*V ; // Target cells to exposed\n",
    "    E2: E -> I ; kappa*E ;  // Exposed cells to infected\n",
    "    E3: -> V ; p*I ;        // Virus production by infected cells\n",
    "    E4: V -> ; c*V ;        // Virus clearance\n",
    "    E5: I -> ; delta*I      // Death of infected cells    \n",
    "\n",
    "    // Parameters - from the Influenza article,\n",
    "        \n",
    "    beta = 3.2e-5;  // rate of transition of target(T) to exposed(E) cells, in units of 1/[V] * 1/day\n",
    "    kappa = 4.0;    // rate of transition from exposed(E) to infected(I) cells, in units of 1/day\n",
    "    delta = 5.2;    // rate of death of infected cells(I), in units of 1/day\n",
    "    p = 4.6e-2;     // rate virus(V) producion by infected cells(I), in units of [V]/day\n",
    "    c = 5.2;        // rate of virus clearance, in units of 1/day\n",
    "\n",
    "    // Initial conditions\n",
    "    T = 4E+8 // estimate of the total number of susceptible epithelial cells\n",
    "             // in upper respiratory tract)\n",
    "    E = 0\n",
    "    I = 0\n",
    "    V = 0.75 // the dose of virus in TCID50 in Influenza experiment; could be V=0 and I = 20 instead for a natural infection\n",
    "\n",
    "'''"
   ]
  },
  {
   "cell_type": "code",
   "execution_count": null,
   "metadata": {},
   "outputs": [],
   "source": [
    "## Model Study\n",
    "The following are the steps to study parameter fits for the patients."
   ]
  },
  {
   "cell_type": "markdown",
   "metadata": {},
   "source": [
    "### 1. Data Setup\n",
    "Create separate timeseries for each patient."
   ]
  },
  {
   "cell_type": "code",
   "execution_count": 3,
   "metadata": {},
   "outputs": [],
   "source": [
    "\"\"\"\n",
    "Transform the input data\n",
    "\"\"\"\n",
    "\n",
    "DIR = \"/home/ubuntu/SBstoat/examples/virus\"\n",
    "INPUT_FILE =  os.path.join(DIR, \"Influenza.csv\")\n",
    "NUM_BOOTSTRAP_ITERATIONS = 10000\n",
    "VIRUS = \"V\"\n",
    "\n",
    "\n",
    "# Convert input file to correct format\n",
    "dataDF = pd.read_csv(INPUT_FILE, header=None)\n",
    "dataDF = dataDF.transpose()\n",
    "dataDF.index.name = \"time\"\n",
    "patientDct = {p: \"P%d\" % (p+1) for p in range(6)}\n",
    "dataDF = dataDF.rename(columns=patientDct)\n",
    "observedTS = SBstoat.NamedTimeseries(dataframe=dataDF)\n",
    "\n",
    "# Create separate data sources\n",
    "dataSources = []\n",
    "for colname in observedTS.colnames:\n",
    "    newTS = observedTS.subsetColumns([colname])\n",
    "    newTS[VIRUS] = newTS[colname]\n",
    "    newTS = newTS.subsetColumns([VIRUS])\n",
    "    dataSources.append(newTS)\n"
   ]
  },
  {
   "cell_type": "markdown",
   "metadata": {},
   "source": [
    "### 2. Transform the Simulation Results to Units of Observed Values\n",
    "The observed values are in units of log10. So, simulation results must\n",
    "be converted to these units. This is done by specifying a data transformation.\n",
    "The data transformation is a function. It accepts as input the timeseries produced by the simulation;\n",
    "the output is a numpy array."
   ]
  },
  {
   "cell_type": "code",
   "execution_count": null,
   "metadata": {},
   "outputs": [],
   "source": [
    "def transformDataArr(timeseries):\n",
    "    \"\"\"\n",
    "    Changes the timeseries to log units\n",
    "    \"\"\"\n",
    "    arr = np.array([1 if v < 1 else v\n",
    "          for v in timeseries[VIRUS]])\n",
    "    return np.log10(arr)"
   ]
  },
  {
   "cell_type": "markdown",
   "metadata": {},
   "source": [
    "### 3. Specify the name and range of permissible values for parameters\n",
    "For each parameter, provide a tuple of its: lower bound, upper bound, and starting value."
   ]
  },
  {
   "cell_type": "code",
   "execution_count": null,
   "metadata": {},
   "outputs": [],
   "source": [
    "# Parameter value ranges: lower, upper, initial value\n",
    "parameterDct = dict(\n",
    "      beta=(0, 10e-5, 3.2e-5),\n",
    "      kappa=(0, 10, 4.0),\n",
    "      delta=(0, 10, 5.2),\n",
    "      p=(0, 1, 4.6e-2),\n",
    "      c=(0, 10, 5.2)\n",
    "      )"
   ]
  },
  {
   "cell_type": "markdown",
   "metadata": {},
   "source": [
    "### 4. Run the model and produce plots."
   ]
  },
  {
   "cell_type": "code",
   "execution_count": null,
   "metadata": {},
   "outputs": [
    {
     "name": "stdout",
     "output_type": "stream",
     "text": [
      "Bootstrapping for instance src_1\n",
      "\n",
      "**Running bootstrap for 5000 iterations with 4 processes.\n",
      "bootstrap completed 1000 iterations.\n",
      "bootstrap completed 2000 iterations.\n",
      "bootstrap completed 3000 iterations.\n",
      "bootstrap completed 4000 iterations.\n",
      "Completed bootstrap process 4.\n",
      "Completed bootstrap process 3.\n",
      "Completed bootstrap process 2.\n",
      "bootstrap completed 5000 iterations.\n",
      "Completed bootstrap process 1.\n",
      "Bootstrapping for instance src_2\n",
      "\n",
      "**Running bootstrap for 5000 iterations with 4 processes.\n"
     ]
    }
   ],
   "source": [
    "dirStudyPath = \"/home/ubuntu/SBstoat/examples/virus/ModelStudyFitters\"\n",
    "\n",
    "# Study of model fitting\n",
    "study = ModelStudy(ANTIMONY_MODEL, dataSources,\n",
    "                  parameterDct=parameterDct,\n",
    "                  dirStudyPath=dirStudyPath,\n",
    "                  fittedDataTransformDct={\"V\": transformDataArr},\n",
    "                  isSerialized=False)\n",
    "\n",
    "study.bootstrap(numIteration=5000)\n",
    "study.plotParameterEstimates()\n",
    "study.plotFitAll()\n"
   ]
  }
 ],
 "metadata": {
  "kernelspec": {
   "display_name": "Python 3",
   "language": "python",
   "name": "python3"
  },
  "language_info": {
   "codemirror_mode": {
    "name": "ipython",
    "version": 3
   },
   "file_extension": ".py",
   "mimetype": "text/x-python",
   "name": "python",
   "nbconvert_exporter": "python",
   "pygments_lexer": "ipython3",
   "version": "3.6.9"
  }
 },
 "nbformat": 4,
 "nbformat_minor": 4
}
