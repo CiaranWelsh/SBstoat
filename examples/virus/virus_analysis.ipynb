{
 "cells": [
  {
   "cell_type": "markdown",
   "metadata": {},
   "source": [
    "# Fitting Parameters for Virus Model"
   ]
  },
  {
   "cell_type": "markdown",
   "metadata": {},
   "source": [
    "Analysis of the virus model.\n",
    "\n",
    " We will fit each of these patients separately, obtaining different values of parameters.\n",
    "\n",
    "**Fitting**\n",
    "\n",
    " There are 6 patients with one value to fit. So, there are 6 different fits.\n",
    "\n",
    "\n",
    " Influenza, SARS and SARS-CoV3 in Tellurium\n",
    "\n",
    "## A simple target cell-limited model, T ==> E ==> I --> produce V:\n",
    " T - number of target cells\n",
    " E - number of exposed cells (virus replicating inside, not yet spreading virus)\n",
    " I - number of infected cells (active virus production)\n",
    " V - viral titre, in units of TCID50/ml of biofluid wash (for Influenza)\n",
    "\n",
    "# The ODEs\n",
    " dT/dt = - beta*T*V\n",
    " dE/dt =   beta*T*V - kappa*E;\n",
    " dI/dt =   kappa * E - delta*I;\n",
    " dV/dt =   p*y(I) - c*y(V);\n",
    "\n",
    " All viral data is in log10(load),...\n",
    " log10(load predicted by model) may be needed for data fitting\n",
    "\n",
    "\n",
    "Influenza.csv\n",
    " Influenza A data - 5 patients\n",
    " viral levels in log10(TCID50 / ml of nasal wash)\n",
    " time in days since volunteer exposure\n",
    " each line in the array is an individual volunteer\n",
    "\n",
    "\n",
    "\n",
    "SARS_CoV2_sputum.csv and SARS_CoV2_nasal.csv\n",
    " SARS-CoV-2 data - 9 patients,\n",
    " for each patient - viral loads from lungs (sputum) and from nasal cavity (swab)\n",
    " viral levels in log10(RNA copies / ml sputum), ...\n",
    " respectively log10(RNA copies / nasal swab)\n",
    " time in days since symptoms onset\n",
    " corresponding lines in the two arrays belong to an individual patient\n",
    "\n",
    "\n",
    "\n",
    "SARS.csv\n",
    " SARS data recorded from 12 patients;\n",
    " included them just for comparison, probably too few datapoints for model inference\n",
    "virus_analysis.py [python] format: unix; [1,1]                                                                                                                                   \n",
    "viral levels in log10(RNA copies / ml of nasopharingeal aspirate)\n",
    " time - only three samples per patient, at 5, 10 and 15 days post symptoms onset\n",
    "\"\"\""
   ]
  },
  {
   "cell_type": "code",
   "execution_count": 1,
   "metadata": {},
   "outputs": [],
   "source": [
    "# Imports\n",
    "import lmfit\n",
    "import os\n",
    "import pandas as pd\n",
    "import numpy as np\n",
    "import matplotlib.pyplot as plt\n",
    "import SBstoat\n",
    "import tellurium as te\n",
    "import matplotlib\n",
    "import pickle\n",
    "%matplotlib inline"
   ]
  },
  {
   "cell_type": "code",
   "execution_count": 2,
   "metadata": {},
   "outputs": [],
   "source": [
    "IS_PLOT = True\n",
    "VIRUS = \"V\"\n",
    "DIR = \"/home/ubuntu/SBstoat/examples/virus\"\n",
    "PICKLE_FILE = os.path.join(DIR, \"virus.pcl\")\n",
    "INPUT_FILE =  os.path.join(DIR, \"Influenza.csv\")\n",
    "NUM_BOOTSTRAP_ITERATIONS = 10000\n",
    "PARAM_BETA = \"beta\"\n",
    "PARAM_KAPPA = \"kappa\"\n",
    "PARAM_P = \"p\"\n",
    "PARAM_C = \"c\"\n",
    "PARAM_DELTA = \"delta\"\n",
    "PARAMS = [PARAM_BETA, PARAM_KAPPA, PARAM_P, PARAM_C, PARAM_DELTA]"
   ]
  },
  {
   "cell_type": "markdown",
   "metadata": {},
   "source": [
    "## Antimony Model"
   ]
  },
  {
   "cell_type": "code",
   "execution_count": 3,
   "metadata": {},
   "outputs": [],
   "source": [
    "ANTIMONY_MODEL  = '''\n",
    "    // Equations\n",
    "    E1: T -> E ; beta*T*V ; // Target cells to exposed\n",
    "    E2: E -> I ; kappa*E ;  // Exposed cells to infected\n",
    "    E3: -> V ; p*I ;        // Virus production by infected cells\n",
    "    E4: V -> ; c*V ;        // Virus clearance\n",
    "    E5: I -> ; delta*I      // Death of infected cells    \n",
    "\n",
    "    // Parameters - from the Influenza article,\n",
    "        \n",
    "    beta = 3.2e-5;  // rate of transition of target(T) to exposed(E) cells, in units of 1/[V] * 1/day\n",
    "    kappa = 4.0;    // rate of transition from exposed(E) to infected(I) cells, in units of 1/day\n",
    "    delta = 5.2;    // rate of death of infected cells(I), in units of 1/day\n",
    "    p = 4.6e-2;     // rate virus(V) producion by infected cells(I), in units of [V]/day\n",
    "    c = 5.2;        // rate of virus clearance, in units of 1/day\n",
    "\n",
    "    // Initial conditions\n",
    "    T = 4E+8 // estimate of the total number of susceptible epithelial cells\n",
    "             // in upper respiratory tract)\n",
    "    E = 0\n",
    "    I = 0\n",
    "    V = 0.75 // the dose of virus in TCID50 in Influenza experiment; could be V=0 and I = 20 instead for a natural infection\n",
    "\n",
    "'''"
   ]
  },
  {
   "cell_type": "markdown",
   "metadata": {},
   "source": [
    "## Functions"
   ]
  },
  {
   "cell_type": "code",
   "execution_count": 4,
   "metadata": {},
   "outputs": [],
   "source": [
    "def extractPatientData(timeseries, patient):\n",
    "     newTimeseries = timeseries.copy()\n",
    "     newTimeseries[VIRUS] = newTimeseries[patient]\n",
    "     return newTimeseries.subsetColumns([VIRUS])"
   ]
  },
  {
   "cell_type": "markdown",
   "metadata": {},
   "source": [
    "## Data Setup"
   ]
  },
  {
   "cell_type": "code",
   "execution_count": 5,
   "metadata": {},
   "outputs": [
    {
     "name": "stdout",
     "output_type": "stream",
     "text": [
      "       P1   P2   P3   P4   P5   P6\n",
      "time                              \n",
      "0.0   2.0  1.0  2.5  3.5  2.5  4.0\n",
      "1.0   5.5  6.0  5.0  5.5  3.0  5.0\n",
      "2.0   4.0  3.0  5.0  6.5  6.5  5.5\n",
      "3.0   5.5  1.5  3.0  5.5  6.5  7.5\n",
      "4.0   3.0  3.5  5.5  3.5  2.0  5.5\n",
      "5.0   0.0  1.3  3.5  4.0  0.8  1.3\n",
      "6.0   0.0  0.0  0.0  0.0  0.0  0.0\n"
     ]
    }
   ],
   "source": [
    "\"\"\"\n",
    "Transform the input data\n",
    "\"\"\"\n",
    "\n",
    "# Convert input file to correct format\n",
    "dataDF = pd.read_csv(INPUT_FILE, header=None)\n",
    "dataDF = dataDF.transpose()\n",
    "dataDF.index.name = \"time\"\n",
    "patientDct = {p: \"P%d\" % (p+1) for p in range(6)}\n",
    "dataDF = dataDF.rename(columns=patientDct)\n",
    "observedTS = SBstoat.NamedTimeseries(dataframe=dataDF)\n",
    "print(observedTS)\n"
   ]
  },
  {
   "cell_type": "code",
   "execution_count": 6,
   "metadata": {},
   "outputs": [
    {
     "data": {
      "text/plain": [
       "[<matplotlib.lines.Line2D at 0x7f54057f6748>]"
      ]
     },
     "execution_count": 6,
     "metadata": {},
     "output_type": "execute_result"
    },
    {
     "data": {
      "image/png": "[encoded data removed]",
      "text/plain": [
       "<Figure size 432x288 with 1 Axes>"
      ]
     },
     "metadata": {
      "needs_background": "light"
     },
     "output_type": "display_data"
    }
   ],
   "source": [
    "# Run the simulation\n",
    "\n",
    "rr = te.loada(ANTIMONY_MODEL)\n",
    "estimates = rr.simulate()\n",
    "v_estimate = np.log10(estimates[\"[V]\"])\n",
    "plt.plot(estimates[\"time\"], v_estimate)"
   ]
  },
  {
   "cell_type": "markdown",
   "metadata": {},
   "source": [
    "## Construct Parameter Fittings\n",
    "This is a computationally intensive procedure. So, results from a past parameter fit are saved in PICKLE_FILE.\n",
    "The plots constructed in the next section"
   ]
  },
  {
   "cell_type": "code",
   "execution_count": 7,
   "metadata": {},
   "outputs": [],
   "source": [
    "# Do some fits\n",
    "# Specify the parameter values\n",
    "parameterDct = {}\n",
    "SBstoat.ModelFitter.addParameter(parameterDct, \"beta\", 0, 10e-5, 3.2e-5)\n",
    "SBstoat.ModelFitter.addParameter(parameterDct, \"kappa\", 0, 10, 4.0)\n",
    "SBstoat.ModelFitter.addParameter(parameterDct, \"delta\", 0, 10, 5.2)\n",
    "SBstoat.ModelFitter.addParameter(parameterDct, \"p\", 0, 1, 4.6e-2)\n",
    "SBstoat.ModelFitter.addParameter(parameterDct, \"c\", 0, 10, 5.2)"
   ]
  },
  {
   "cell_type": "code",
   "execution_count": 8,
   "metadata": {},
   "outputs": [],
   "source": [
    "def transformData(timeseries):\n",
    "    \"\"\"\n",
    "    Changes the timeseries to log units\n",
    "    \"\"\"\n",
    "    arr = np.array([1 if v < 1 else v\n",
    "          for v in timeseries[VIRUS]])\n",
    "    timeseries[VIRUS] = np.log10(arr)\n",
    "    return timeseries"
   ]
  },
  {
   "cell_type": "code",
   "execution_count": 9,
   "metadata": {},
   "outputs": [],
   "source": [
    "# Create bootstrapped fitters for all patients\n",
    "def mkFitter(patient):\n",
    "    \"\"\"\n",
    "    Creates a fitter for the patient and runs\n",
    "    bootsrapping.\n",
    "\n",
    "    Parameters\n",
    "    ----------\n",
    "    patient: str\n",
    "    \n",
    "    Returns\n",
    "    -------\n",
    "    ModelFitter\n",
    "    \"\"\"\n",
    "    parameterDct = {}\n",
    "    SBstoat.ModelFitter.addParameter(parameterDct, \"beta\", 0, 10e-5, 3.2e-5)\n",
    "    SBstoat.ModelFitter.addParameter(parameterDct, \"kappa\", 0, 10, 4.0)\n",
    "    SBstoat.ModelFitter.addParameter(parameterDct, \"delta\", 0, 10, 5.2)\n",
    "    SBstoat.ModelFitter.addParameter(parameterDct, \"p\", 0, 1, 4.6e-2)\n",
    "    SBstoat.ModelFitter.addParameter(parameterDct, \"c\", 0, 10, 5.2)\n",
    "    # Obtain the input data\n",
    "    patientObservedTS = extractPatientData(observedTS, patient)\n",
    "    fittedDataTransformDct = {VIRUS: transformData}  # do fit in log units\n",
    "\n",
    "    # Fit parameters to ts1\n",
    "    fitter = SBstoat.ModelFitter(ANTIMONY_MODEL,\n",
    "        patientObservedTS, [\"beta\",\"kappa\",\"delta\",\"p\",\"c\"],\n",
    "        fittedDataTransformDct=fittedDataTransformDct,\n",
    "        parameterDct=parameterDct)\n",
    "    fitter.fitModel()\n",
    "    # Do the bootstrap\n",
    "    reportInterval = int(NUM_BOOTSTRAP_ITERATIONS/10)\n",
    "    fitter.bootstrap(numIteration=NUM_BOOTSTRAP_ITERATIONS,\n",
    "          reportInterval=reportInterval)\n",
    "    #\n",
    "    return fitter"
   ]
  },
  {
   "cell_type": "code",
   "execution_count": 10,
   "metadata": {},
   "outputs": [],
   "source": [
    "# Construct the parameter fits if they do not exist already\n",
    "if os.path.isfile(PICKLE_FILE):\n",
    "    fitters = pickle.load(open( PICKLE_FILE, \"rb\" ) )\n",
    "else:\n",
    "    # Construct fitters for all patients\n",
    "    fitters = []\n",
    "    for patient in patientDct.values():\n",
    "        print(\"\\n\\n*** Processing patient %s\"\"\" % patient)\n",
    "        fitter = mkFitter(patient)\n",
    "        fitters.append(fitter)\n",
    "        fitter.roadrunnerModel = None  # Cannot serialize this object\n",
    "        pickle.dump(fitters, open( PICKLE_FILE, \"wb\" ) )\n"
   ]
  },
  {
   "cell_type": "markdown",
   "metadata": {},
   "source": [
    "## Analysis of Fitting Results"
   ]
  },
  {
   "cell_type": "code",
   "execution_count": 11,
   "metadata": {},
   "outputs": [],
   "source": [
    "def simulateWithBootstrapParameters(fitter):\n",
    "    \"\"\"\n",
    "    Runs a simulation using the bootstrap parameter estimates.\n",
    "    \n",
    "    Parameters\n",
    "    ----------\n",
    "    fitter: ModelFitter\n",
    "    \n",
    "    Return\n",
    "    ------\n",
    "    NamedTimeseries: result of simulation\n",
    "    \"\"\"\n",
    "    # Construct lmfit parameters\n",
    "    fitter._initializeRoadrunnerModel()\n",
    "    params = lmfit.Parameters()\n",
    "    for name in fitter.bootstrapResult.meanDct.keys():\n",
    "        value=fitter.bootstrapResult.meanDct[name]\n",
    "        params.add(name, value=value, min=value*0.99, max=value*1.01)\n",
    "    fitter._simulate(params=params)\n",
    "    fitter.fittedTS = transformData(fitter.fittedTS)\n",
    "    columns = fitter.fittedTS.colnames\n",
    "    fitter.residualsTS[columns] = fitter.observedTS[columns] - fitter.fittedTS[columns]"
   ]
  },
  {
   "cell_type": "code",
   "execution_count": null,
   "metadata": {},
   "outputs": [],
   "source": [
    "# Plot fits for each patient\n",
    "names = [\"P%d\" % (p+1) for p in patientDct.keys()]\n",
    "for patient in patientDct.keys():\n",
    "    print(\"\\n\\n***Analysis for patient %s***\\n\" % names[patient])\n",
    "    fitter = fitters[patient]\n",
    "    simulateWithBootstrapParameters(fitter)\n",
    "    fitter.plotFitAll(numRow=2, numCol=2, ylabel=\"log10(V)\")\n",
    "    fitter.plotResiduals(numRow=2, numCol=2, ylabel=\"log10(V)\")\n"
   ]
  },
  {
   "cell_type": "code",
   "execution_count": null,
   "metadata": {},
   "outputs": [],
   "source": [
    "# Construct parameter plots\n",
    "patients = [p+1 for p in patientDct.keys()]\n",
    "fig, axes = plt.subplots(5,1, figsize=(12,10))\n",
    "for pos, param in enumerate(PARAMS):\n",
    "    ax = axes[pos]\n",
    "    param = PARAMS[pos]\n",
    "    means = [f.bootstrapResult.meanDct[param] for f in fitters]\n",
    "    stds = [f.bootstrapResult.stdDct[param] for f in fitters]\n",
    "    ax.errorbar(patients, means, yerr=stds)\n",
    "    ax.set_title(param)\n",
    "    if pos == len(PARAMS) - 1:\n",
    "        ax.set_xlabel(\"Patient\")\n",
    "plt.suptitle(\"Bootstrap Parameter Estimates\")\n"
   ]
  }
 ],
 "metadata": {
  "kernelspec": {
   "display_name": "Python 3",
   "language": "python",
   "name": "python3"
  },
  "language_info": {
   "codemirror_mode": {
    "name": "ipython",
    "version": 3
   },
   "file_extension": ".py",
   "mimetype": "text/x-python",
   "name": "python",
   "nbconvert_exporter": "python",
   "pygments_lexer": "ipython3",
   "version": "3.6.9"
  }
 },
 "nbformat": 4,
 "nbformat_minor": 4
}
