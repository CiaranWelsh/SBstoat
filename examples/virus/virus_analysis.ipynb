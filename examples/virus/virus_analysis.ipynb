{
 "cells": [
  {
   "cell_type": "markdown",
   "metadata": {},
   "source": [
    "# Fitting Parameters for Influenza Data"
   ]
  },
  {
   "cell_type": "markdown",
   "metadata": {},
   "source": [
    "## Overview\n",
    "\n",
    "This is a study of the Influenza data. The analysis provides plots of fits and parameter estimates. Two models are considered.\n",
    "\n",
    "### Influenza Data (Influenza.csv)\n",
    "\n",
    "- 6 patients\n",
    "- Viral levels in log10(TCID50 / ml of nasal wash)\n",
    "- Measurements taken a successive days since volunteer exposure\n",
    "- Columns are patients\n",
    "\n",
    "### State variables\n",
    "\n",
    "- $T$: number of target cells\n",
    "- $E$: number of exposed cells (virus replicating inside, not yet spreading virus)\n",
    "- $I$: number of infected cells (active virus production)\n",
    "- $V$: viral titre, in units of TCID50/ml of biofluid wash (for Influenza)\n",
    "\n",
    "### Baseline Model: $T \\rightarrow E \\rightarrow I \\rightarrow \\emptyset$\n",
    " $\\frac{dT}{dt} = - \\beta T V$\n",
    " \n",
    " $\\frac{dE}{dt} =  \\beta T V - \\kappa E$\n",
    " \n",
    " $\\frac{dI}{dt} = \\kappa E - \\delta I$\n",
    " \n",
    " $\\frac{dV}{dt} = p y(I) - c y(V)$\n",
    " \n",
    "### Simplified Model: $T \\rightarrow I \\rightarrow \\emptyset$\n",
    " $\\frac{dT}{dt} = - \\beta T V$\n",
    " \n",
    " $\\frac{dI}{dt} = \\beta T V - \\delta I$\n",
    " \n",
    " $\\frac{dV}{dt} = p y(I) - c y(V)$\n",
    " "
   ]
  },
  {
   "cell_type": "code",
   "execution_count": 1,
   "metadata": {},
   "outputs": [],
   "source": [
    "# Imports\n",
    "import os\n",
    "import numpy as np\n",
    "import pandas as pd\n",
    "import SBstoat\n",
    "from SBstoat.modelStudy import ModelStudy\n",
    "%matplotlib inline"
   ]
  },
  {
   "cell_type": "code",
   "execution_count": 2,
   "metadata": {},
   "outputs": [],
   "source": [
    "# Programming Constants Used in Analysis\n",
    "USE_SERIALIZED = False  # Use saved values of fitting from a previous bootstrap (if present)\n",
    "DO_SERIALIZE = True  # Update the saved values of fitted data\n",
    "DIR = \"/home/ubuntu/SBstoat/examples/virus\"  # Directory where the data are\n",
    "FILE_NAME = \"Influenza.csv\"  # Name of the file containing the observed data\n",
    "NUM_BOOTSTRAP_ITERATION = 10000  # Number of bootstrap iterations, if bootstrapping is done\n",
    "VIRUS = \"V\"  # Name of the state variable that corresponds to the observed data"
   ]
  },
  {
   "cell_type": "markdown",
   "metadata": {},
   "source": [
    "## Study for Baseline Model"
   ]
  },
  {
   "cell_type": "code",
   "execution_count": 3,
   "metadata": {},
   "outputs": [],
   "source": [
    "ANTIMONY_MODEL  = '''\n",
    "    // Equations\n",
    "    E1: T -> E ; beta*T*V ; // Target cells to exposed\n",
    "    E2: E -> I ; kappa*E ;  // Exposed cells to infected\n",
    "    E3: -> V ; p*I ;        // Virus production by infected cells\n",
    "    E4: V -> ; c*V ;        // Virus clearance\n",
    "    E5: I -> ; delta*I      // Death of infected cells    \n",
    "\n",
    "    // Parameters - from the Influenza article,\n",
    "        \n",
    "    beta = 3.2e-5;  // rate of transition of target(T) to exposed(E) cells, in units of 1/[V] * 1/day\n",
    "    kappa = 4.0;    // rate of transition from exposed(E) to infected(I) cells, in units of 1/day\n",
    "    delta = 5.2;    // rate of death of infected cells(I), in units of 1/day\n",
    "    p = 4.6e-2;     // rate virus(V) producion by infected cells(I), in units of [V]/day\n",
    "    c = 5.2;        // rate of virus clearance, in units of 1/day\n",
    "\n",
    "    // Initial conditions\n",
    "    T = 4E+8 // estimate of the total number of susceptible epithelial cells\n",
    "             // in upper respiratory tract)\n",
    "    E = 0\n",
    "    I = 0\n",
    "    V = 0.75 // the dose of virus in TCID50 in Influenza experiment; could be V=0 and I = 20 instead for a natural infection\n",
    "\n",
    "'''"
   ]
  },
  {
   "cell_type": "markdown",
   "metadata": {},
   "source": [
    "### 1. Data Setup\n",
    "Create separate timeseries for each patient."
   ]
  },
  {
   "cell_type": "code",
   "execution_count": 4,
   "metadata": {},
   "outputs": [],
   "source": [
    "# Transform the input data into separate data sources.\n",
    "path = os.path.join(DIR, FILE_NAME)\n",
    "patients = [\"P%d\" % (p+1) for p in range(6)]\n",
    "dataSourceDct = SBstoat.modelStudy.mkDataSourceDct(path, VIRUS,\n",
    "                                                   dataSourceNames=patients)"
   ]
  },
  {
   "cell_type": "code",
   "execution_count": 5,
   "metadata": {},
   "outputs": [
    {
     "data": {
      "text/plain": [
       "{'P1':         V\n",
       " time     \n",
       " 0.0   2.0\n",
       " 1.0   5.5\n",
       " 2.0   4.0\n",
       " 3.0   5.5\n",
       " 4.0   3.0\n",
       " 5.0   0.0\n",
       " 6.0   0.0,\n",
       " 'P2':         V\n",
       " time     \n",
       " 0.0   1.0\n",
       " 1.0   6.0\n",
       " 2.0   3.0\n",
       " 3.0   1.5\n",
       " 4.0   3.5\n",
       " 5.0   1.3\n",
       " 6.0   0.0,\n",
       " 'P3':         V\n",
       " time     \n",
       " 0.0   2.5\n",
       " 1.0   5.0\n",
       " 2.0   5.0\n",
       " 3.0   3.0\n",
       " 4.0   5.5\n",
       " 5.0   3.5\n",
       " 6.0   0.0,\n",
       " 'P4':         V\n",
       " time     \n",
       " 0.0   3.5\n",
       " 1.0   5.5\n",
       " 2.0   6.5\n",
       " 3.0   5.5\n",
       " 4.0   3.5\n",
       " 5.0   4.0\n",
       " 6.0   0.0,\n",
       " 'P5':         V\n",
       " time     \n",
       " 0.0   2.5\n",
       " 1.0   3.0\n",
       " 2.0   6.5\n",
       " 3.0   6.5\n",
       " 4.0   2.0\n",
       " 5.0   0.8\n",
       " 6.0   0.0,\n",
       " 'P6':         V\n",
       " time     \n",
       " 0.0   4.0\n",
       " 1.0   5.0\n",
       " 2.0   5.5\n",
       " 3.0   7.5\n",
       " 4.0   5.5\n",
       " 5.0   1.3\n",
       " 6.0   0.0}"
      ]
     },
     "execution_count": 5,
     "metadata": {},
     "output_type": "execute_result"
    }
   ],
   "source": [
    "# dataSourceDct is a python dictionary. The key is 'Pn', where n is the patient number.\n",
    "# The value is a time series for that patient.\n",
    "dataSourceDct"
   ]
  },
  {
   "cell_type": "markdown",
   "metadata": {},
   "source": [
    "### 2. Transform the simulation results to units of observed values\n",
    "The observed values are in units of log10. So, simulation results must\n",
    "be converted to these units. This is done by specifying a data transformation.\n",
    "The data transformation is a function. It accepts as input the timeseries produced by the simulation;\n",
    "the output is a numpy array."
   ]
  },
  {
   "cell_type": "code",
   "execution_count": 6,
   "metadata": {},
   "outputs": [],
   "source": [
    "def transformDataArr(timeseries):\n",
    "    \"\"\"\n",
    "    Changes the timeseries to log units\n",
    "    \"\"\"\n",
    "    arr = np.array([1 if v < 1 else v\n",
    "          for v in timeseries[VIRUS]])\n",
    "    return np.log10(arr)"
   ]
  },
  {
   "cell_type": "markdown",
   "metadata": {},
   "source": [
    "### 3. Specify permissible values for parameters\n",
    "For each parameter, provide a tuple of its: lower bound, upper bound, and starting value."
   ]
  },
  {
   "cell_type": "code",
   "execution_count": 7,
   "metadata": {},
   "outputs": [],
   "source": [
    "# Parameter value ranges: lower, upper, initial value\n",
    "parameterDct = dict(\n",
    "      beta=(0, 10e-5, 3.2e-5),\n",
    "      kappa=(0, 10, 4.0),\n",
    "      delta=(0, 10, 5.2),\n",
    "      p=(0, 1, 4.6e-2),\n",
    "      c=(0, 10, 5.2)\n",
    "      )"
   ]
  },
  {
   "cell_type": "markdown",
   "metadata": {},
   "source": [
    "### 4. Run the model and produce plots."
   ]
  },
  {
   "cell_type": "code",
   "execution_count": null,
   "metadata": {},
   "outputs": [
    {
     "name": "stdout",
     "output_type": "stream",
     "text": [
      "\n",
      "\n",
      "Doing bootstrapp for instance P1\n",
      "\n",
      "**Running bootstrap for 10000 iterations with 4 processes.\n",
      "bootstrap completed 1000 iterations.\n",
      "bootstrap completed 2000 iterations.\n",
      "bootstrap completed 3000 iterations.\n",
      "bootstrap completed 4000 iterations.\n",
      "bootstrap completed 5000 iterations.\n",
      "bootstrap completed 6000 iterations.\n",
      "bootstrap completed 7000 iterations.\n",
      "bootstrap completed 8000 iterations.\n",
      "bootstrap completed 9000 iterations.\n",
      "Completed bootstrap process 2.\n",
      "Completed bootstrap process 4.\n",
      "Completed bootstrap process 3.\n",
      "bootstrap completed 10000 iterations.\n",
      "Completed bootstrap process 1.\n",
      "10000 bootstrap estimates of parameters.\n",
      "\n",
      "\n",
      "Doing bootstrapp for instance P2\n",
      "\n",
      "**Running bootstrap for 10000 iterations with 4 processes.\n"
     ]
    }
   ],
   "source": [
    "dirStudyPath = os.path.join(DIR, \"ModelStudyFitters\")\n",
    "\n",
    "# Study of model fitting\n",
    "study = ModelStudy(ANTIMONY_MODEL, dataSourceDct,\n",
    "                  parameterDct=parameterDct,\n",
    "                  dirStudyPath=dirStudyPath,\n",
    "                  fittedDataTransformDct={\"V\": transformDataArr},\n",
    "                  doSerialize=DO_SERIALIZE, useSerialized=USE_SERIALIZED)\n",
    "\n",
    "study.bootstrap(numIteration=NUM_BOOTSTRAP_ITERATION)\n",
    "study.plotFitAll()\n",
    "study.plotParameterEstimates()\n"
   ]
  },
  {
   "cell_type": "markdown",
   "metadata": {},
   "source": [
    "## SIR Model: $T \\rightarrow I \\rightarrow \\emptyset$\n",
    "\n",
    "Step 1 - step 3 are the same as before."
   ]
  },
  {
   "cell_type": "code",
   "execution_count": null,
   "metadata": {},
   "outputs": [],
   "source": [
    "SIR_MODEL  = '''\n",
    "    // Equations\n",
    "    E1: T -> I ; beta*T*V ; // Target cells to exposed\n",
    "    E3: -> V ; p*I ;        // Virus production by infected cells\n",
    "    E4: V -> ; c*V ;        // Virus clearance\n",
    "    E5: I -> ; delta*I      // Death of infected cells    \n",
    "\n",
    "    // Parameters - from the Influenza article,\n",
    "        \n",
    "    beta = 3.2e-5;  // rate of transition of target(T) to exposed(E) cells, in units of 1/[V] * 1/day\n",
    "    kappa = 4.0;    // rate of transition from exposed(E) to infected(I) cells, in units of 1/day\n",
    "    delta = 5.2;    // rate of death of infected cells(I), in units of 1/day\n",
    "    p = 4.6e-2;     // rate virus(V) producion by infected cells(I), in units of [V]/day\n",
    "    c = 5.2;        // rate of virus clearance, in units of 1/day\n",
    "\n",
    "    // Initial conditions\n",
    "    T = 4E+8 // estimate of the total number of susceptible epithelial cells\n",
    "             // in upper respiratory tract)\n",
    "    I = 0\n",
    "    V = 0.75 // the dose of virus in TCID50 in Influenza experiment; could be V=0 and I = 20 instead for a natural infection\n",
    "\n",
    "'''"
   ]
  },
  {
   "cell_type": "markdown",
   "metadata": {},
   "source": [
    "### Step 4: Run the model and produce plots"
   ]
  },
  {
   "cell_type": "code",
   "execution_count": null,
   "metadata": {},
   "outputs": [],
   "source": [
    "dirStudyPath = os.path.join(DIR, \"SIRModelFitters\")\n",
    "\n",
    "# Study of model fitting\n",
    "study = ModelStudy(SIR_MODEL, dataSourceDct,\n",
    "                  parameterDct=parameterDct,\n",
    "                  dirStudyPath=dirStudyPath,\n",
    "                  fittedDataTransformDct={\"V\": transformDataArr},\n",
    "                  doSerialize=DO_SERIALIZE, useSerialized=USE_SERIALIZED)\n",
    "\n",
    "study.bootstrap(numIteration=NUM_BOOTSTRAP_ITERATION)\n",
    "study.plotFitAll()\n",
    "study.plotParameterEstimates()"
   ]
  }
 ],
 "metadata": {
  "kernelspec": {
   "display_name": "Python 3",
   "language": "python",
   "name": "python3"
  },
  "language_info": {
   "codemirror_mode": {
    "name": "ipython",
    "version": 3
   },
   "file_extension": ".py",
   "mimetype": "text/x-python",
   "name": "python",
   "nbconvert_exporter": "python",
   "pygments_lexer": "ipython3",
   "version": "3.6.9"
  }
 },
 "nbformat": 4,
 "nbformat_minor": 4
}
