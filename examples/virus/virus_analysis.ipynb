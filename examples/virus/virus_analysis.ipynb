{
 "cells": [
  {
   "cell_type": "markdown",
   "metadata": {},
   "source": [
    "# Fitting Parameters for Virus Model"
   ]
  },
  {
   "cell_type": "markdown",
   "metadata": {},
   "source": [
    "Analysis of the virus model.\n",
    "\n",
    " We will fit each of these patients separately, obtaining different values of parameters.\n",
    "\n",
    "**Fitting**\n",
    "\n",
    " There are 6 patients with one value to fit. So, there are 6 different fits.\n",
    "\n",
    "\n",
    " Influenza, SARS and SARS-CoV3 in Tellurium\n",
    "\n",
    "## A simple target cell-limited model, T ==> E ==> I --> produce V:\n",
    " T - number of target cells\n",
    " E - number of exposed cells (virus replicating inside, not yet spreading virus)\n",
    " I - number of infected cells (active virus production)\n",
    " V - viral titre, in units of TCID50/ml of biofluid wash (for Influenza)\n",
    "\n",
    "# The ODEs\n",
    " dT/dt = - beta*T*V\n",
    " dE/dt =   beta*T*V - kappa*E;\n",
    " dI/dt =   kappa * E - delta*I;\n",
    " dV/dt =   p*y(I) - c*y(V);\n",
    "\n",
    " All viral data is in log10(load),...\n",
    " log10(load predicted by model) may be needed for data fitting\n",
    "\n",
    "\n",
    "Influenza.csv\n",
    " Influenza A data - 5 patients\n",
    " viral levels in log10(TCID50 / ml of nasal wash)\n",
    " time in days since volunteer exposure\n",
    " each line in the array is an individual volunteer\n",
    "\n",
    "\n",
    "\n",
    "SARS_CoV2_sputum.csv and SARS_CoV2_nasal.csv\n",
    " SARS-CoV-2 data - 9 patients,\n",
    " for each patient - viral loads from lungs (sputum) and from nasal cavity (swab)\n",
    " viral levels in log10(RNA copies / ml sputum), ...\n",
    " respectively log10(RNA copies / nasal swab)\n",
    " time in days since symptoms onset\n",
    " corresponding lines in the two arrays belong to an individual patient\n",
    "\n",
    "\n",
    "\n",
    "SARS.csv\n",
    " SARS data recorded from 12 patients;\n",
    " included them just for comparison, probably too few datapoints for model inference\n",
    "virus_analysis.py [python] format: unix; [1,1]                                                                                                                                   \n",
    "viral levels in log10(RNA copies / ml of nasopharingeal aspirate)\n",
    " time - only three samples per patient, at 5, 10 and 15 days post symptoms onset\n",
    "\"\"\""
   ]
  },
  {
   "cell_type": "code",
   "execution_count": 1,
   "metadata": {},
   "outputs": [],
   "source": [
    "# Imports\n",
    "import lmfit\n",
    "import os\n",
    "import pandas as pd\n",
    "import numpy as np\n",
    "import matplotlib.pyplot as plt\n",
    "import SBstoat\n",
    "import tellurium as te\n",
    "import matplotlib\n",
    "from SBstoat.modelStudy import ModelStudy\n",
    "%matplotlib inline"
   ]
  },
  {
   "cell_type": "code",
   "execution_count": 2,
   "metadata": {},
   "outputs": [],
   "source": [
    "IS_PLOT = True\n",
    "VIRUS = \"V\"\n",
    "PATIENTS = [\"P%d\" % n for n in range(1, 7)]\n",
    "DIR = \"/home/ubuntu/SBstoat/examples/virus\"\n",
    "INPUT_FILE =  os.path.join(DIR, \"Influenza.csv\")\n",
    "NUM_BOOTSTRAP_ITERATIONS = 10000\n",
    "PARAM_BETA = \"beta\"\n",
    "PARAM_KAPPA = \"kappa\"\n",
    "PARAM_P = \"p\"\n",
    "PARAM_C = \"c\"\n",
    "PARAM_DELTA = \"delta\"\n",
    "PARAMS = [PARAM_BETA, PARAM_KAPPA, PARAM_P, PARAM_C, PARAM_DELTA]\n",
    "TIME = \"time\"\n",
    "PATH_PAT = os.path.join(DIR, \"virus_%s.pcl\")\n",
    "PATH_DCT = {p: PATH_PAT % p for p in PATIENTS }"
   ]
  },
  {
   "cell_type": "markdown",
   "metadata": {},
   "source": [
    "## Antimony Model"
   ]
  },
  {
   "cell_type": "code",
   "execution_count": 3,
   "metadata": {},
   "outputs": [],
   "source": [
    "ANTIMONY_MODEL  = '''\n",
    "    // Equations\n",
    "    E1: T -> E ; beta*T*V ; // Target cells to exposed\n",
    "    E2: E -> I ; kappa*E ;  // Exposed cells to infected\n",
    "    E3: -> V ; p*I ;        // Virus production by infected cells\n",
    "    E4: V -> ; c*V ;        // Virus clearance\n",
    "    E5: I -> ; delta*I      // Death of infected cells    \n",
    "\n",
    "    // Parameters - from the Influenza article,\n",
    "        \n",
    "    beta = 3.2e-5;  // rate of transition of target(T) to exposed(E) cells, in units of 1/[V] * 1/day\n",
    "    kappa = 4.0;    // rate of transition from exposed(E) to infected(I) cells, in units of 1/day\n",
    "    delta = 5.2;    // rate of death of infected cells(I), in units of 1/day\n",
    "    p = 4.6e-2;     // rate virus(V) producion by infected cells(I), in units of [V]/day\n",
    "    c = 5.2;        // rate of virus clearance, in units of 1/day\n",
    "\n",
    "    // Initial conditions\n",
    "    T = 4E+8 // estimate of the total number of susceptible epithelial cells\n",
    "             // in upper respiratory tract)\n",
    "    E = 0\n",
    "    I = 0\n",
    "    V = 0.75 // the dose of virus in TCID50 in Influenza experiment; could be V=0 and I = 20 instead for a natural infection\n",
    "\n",
    "'''"
   ]
  },
  {
   "cell_type": "markdown",
   "metadata": {},
   "source": [
    "## Data Setup"
   ]
  },
  {
   "cell_type": "code",
   "execution_count": 4,
   "metadata": {},
   "outputs": [
    {
     "name": "stdout",
     "output_type": "stream",
     "text": [
      "       P1   P2   P3   P4   P5   P6\n",
      "time                              \n",
      "0.0   2.0  1.0  2.5  3.5  2.5  4.0\n",
      "1.0   5.5  6.0  5.0  5.5  3.0  5.0\n",
      "2.0   4.0  3.0  5.0  6.5  6.5  5.5\n",
      "3.0   5.5  1.5  3.0  5.5  6.5  7.5\n",
      "4.0   3.0  3.5  5.5  3.5  2.0  5.5\n",
      "5.0   0.0  1.3  3.5  4.0  0.8  1.3\n",
      "6.0   0.0  0.0  0.0  0.0  0.0  0.0\n"
     ]
    }
   ],
   "source": [
    "\"\"\"\n",
    "Transform the input data\n",
    "\"\"\"\n",
    "\n",
    "# Convert input file to correct format\n",
    "dataDF = pd.read_csv(INPUT_FILE, header=None)\n",
    "dataDF = dataDF.transpose()\n",
    "dataDF.index.name = \"time\"\n",
    "patientDct = {p: \"P%d\" % (p+1) for p in range(6)}\n",
    "dataDF = dataDF.rename(columns=patientDct)\n",
    "observedTS = SBstoat.NamedTimeseries(dataframe=dataDF)\n",
    "print(observedTS)\n"
   ]
  },
  {
   "cell_type": "markdown",
   "metadata": {},
   "source": [
    "## Model Study"
   ]
  },
  {
   "cell_type": "code",
   "execution_count": 5,
   "metadata": {},
   "outputs": [],
   "source": [
    "# Create separate data sources\n",
    "dataSources = []\n",
    "for colname in observedTS.colnames:\n",
    "    newTS = observedTS.subsetColumns([colname])\n",
    "    newTS[VIRUS] = newTS[colname]\n",
    "    newTS = newTS.subsetColumns([VIRUS])\n",
    "    dataSources.append(newTS)                                    "
   ]
  },
  {
   "cell_type": "code",
   "execution_count": 6,
   "metadata": {},
   "outputs": [
    {
     "data": {
      "text/plain": [
       "        V\n",
       "time     \n",
       "0.0   2.0\n",
       "1.0   5.5\n",
       "2.0   4.0\n",
       "3.0   5.5\n",
       "4.0   3.0\n",
       "5.0   0.0\n",
       "6.0   0.0"
      ]
     },
     "execution_count": 6,
     "metadata": {},
     "output_type": "execute_result"
    }
   ],
   "source": [
    "dataSources[0]"
   ]
  },
  {
   "cell_type": "code",
   "execution_count": 7,
   "metadata": {},
   "outputs": [],
   "source": [
    "def transformDataArr(timeseries):\n",
    "    \"\"\"\n",
    "    Changes the timeseries to log units\n",
    "    \"\"\"\n",
    "    arr = np.array([1 if v < 1 else v\n",
    "          for v in timeseries[VIRUS]])\n",
    "    return np.log10(arr)"
   ]
  },
  {
   "cell_type": "code",
   "execution_count": null,
   "metadata": {},
   "outputs": [
    {
     "name": "stdout",
     "output_type": "stream",
     "text": [
      "Bootstrapping for instance src_1\n",
      "> \u001b[0;32m/home/ubuntu/SBstoat/SBstoat/_modelFitterCore.py\u001b[0m(319)\u001b[0;36m_residuals\u001b[0;34m()\u001b[0m\n",
      "\u001b[0;32m    317 \u001b[0;31m            \u001b[0mself\u001b[0m\u001b[0;34m.\u001b[0m\u001b[0mresidualsTS\u001b[0m \u001b[0;34m=\u001b[0m \u001b[0mself\u001b[0m\u001b[0;34m.\u001b[0m\u001b[0mobservedTS\u001b[0m\u001b[0;34m.\u001b[0m\u001b[0msubsetColumns\u001b[0m\u001b[0;34m(\u001b[0m\u001b[0mcols\u001b[0m\u001b[0;34m)\u001b[0m\u001b[0;34m\u001b[0m\u001b[0;34m\u001b[0m\u001b[0m\n",
      "\u001b[0m\u001b[0;32m    318 \u001b[0;31m        \u001b[0;32mimport\u001b[0m \u001b[0mpdb\u001b[0m\u001b[0;34m;\u001b[0m \u001b[0mpdb\u001b[0m\u001b[0;34m.\u001b[0m\u001b[0mset_trace\u001b[0m\u001b[0;34m(\u001b[0m\u001b[0;34m)\u001b[0m\u001b[0;34m\u001b[0m\u001b[0;34m\u001b[0m\u001b[0m\n",
      "\u001b[0m\u001b[0;32m--> 319 \u001b[0;31m        \u001b[0mself\u001b[0m\u001b[0;34m.\u001b[0m\u001b[0mresidualsTS\u001b[0m\u001b[0;34m[\u001b[0m\u001b[0mcols\u001b[0m\u001b[0;34m]\u001b[0m \u001b[0;34m=\u001b[0m \u001b[0mself\u001b[0m\u001b[0;34m.\u001b[0m\u001b[0mobservedTS\u001b[0m\u001b[0;34m[\u001b[0m\u001b[0mcols\u001b[0m\u001b[0;34m]\u001b[0m \u001b[0;34m-\u001b[0m \u001b[0mself\u001b[0m\u001b[0;34m.\u001b[0m\u001b[0mfittedTS\u001b[0m\u001b[0;34m[\u001b[0m\u001b[0mcols\u001b[0m\u001b[0;34m]\u001b[0m\u001b[0;34m\u001b[0m\u001b[0;34m\u001b[0m\u001b[0m\n",
      "\u001b[0m\u001b[0;32m    320 \u001b[0;31m        \u001b[0mresiduals\u001b[0m \u001b[0;34m=\u001b[0m \u001b[0mself\u001b[0m\u001b[0;34m.\u001b[0m\u001b[0mresidualsTS\u001b[0m\u001b[0;34m.\u001b[0m\u001b[0mflatten\u001b[0m\u001b[0;34m(\u001b[0m\u001b[0;34m)\u001b[0m\u001b[0;34m\u001b[0m\u001b[0;34m\u001b[0m\u001b[0m\n",
      "\u001b[0m\u001b[0;32m    321 \u001b[0;31m        \u001b[0;32mreturn\u001b[0m \u001b[0mresiduals\u001b[0m\u001b[0;34m\u001b[0m\u001b[0;34m\u001b[0m\u001b[0m\n",
      "\u001b[0m\n"
     ]
    },
    {
     "name": "stdin",
     "output_type": "stream",
     "text": [
      "ipdb>  self.fitter.params\n"
     ]
    },
    {
     "name": "stdout",
     "output_type": "stream",
     "text": [
      "*** AttributeError: 'ModelFitter' object has no attribute 'fitter'\n"
     ]
    },
    {
     "name": "stdin",
     "output_type": "stream",
     "text": [
      "ipdb>  self.params\n",
      "ipdb>  self.fitterTS\n"
     ]
    },
    {
     "name": "stdout",
     "output_type": "stream",
     "text": [
      "*** AttributeError: 'ModelFitter' object has no attribute 'fitterTS'\n"
     ]
    }
   ],
   "source": [
    "study = ModelStudy(ANTIMONY_MODEL, dataSources, PARAMS,\n",
    "                  fittedDataTransformDct={\"V\": transformDataArr})\n",
    "study.bootstrap()"
   ]
  },
  {
   "cell_type": "markdown",
   "metadata": {},
   "source": [
    "## Fits for Original Values of Parameters"
   ]
  },
  {
   "cell_type": "markdown",
   "metadata": {},
   "source": [
    "The following is a plot of the Influenza data and the simulation results for the 6 patients, P1-P6. The same simulation curve is produced for each of the 6 patients."
   ]
  },
  {
   "cell_type": "code",
   "execution_count": null,
   "metadata": {},
   "outputs": [],
   "source": [
    "# Compare baseline simulation with observed values\n",
    "numRow = 2\n",
    "numCol = 3\n",
    "rr = te.loada(ANTIMONY_MODEL)\n",
    "estimates = rr.simulate(0, 6)\n",
    "v_estimate = np.log10(estimates[\"[V]\"])\n",
    "COLORS = [\"r\", \"grey\", \"b\", \"g\", \"yellow\", \"pink\"]\n",
    "fig, axes = plt.subplots(numRow, numCol, figsize=(10, 12))\n",
    "for idx, patient in enumerate(observedTS.colnames):\n",
    "    if idx < numCol:\n",
    "        row = 0\n",
    "    else:\n",
    "        row = 1\n",
    "    col = idx - row*numCol\n",
    "    ax = axes[row, col]\n",
    "    if idx == 3:\n",
    "        ax.set_xlabel(\"time\")\n",
    "        ax.set_ylabel(\"log10(V)\")\n",
    "    color = COLORS[idx]\n",
    "    ax.scatter(observedTS[TIME], observedTS[patient])\n",
    "    ax.plot(estimates[TIME], v_estimate)\n",
    "    _ = ax.text(5, 7, \"%s\"% patient, fontsize=16)\n",
    "    ax.set_ylim([0, 8])\n",
    "_ = plt.suptitle(\"Simulation With Default Parameter Values vs. Observed values\")"
   ]
  },
  {
   "cell_type": "markdown",
   "metadata": {},
   "source": [
    "## Construct Fittings and Bootsraps for Each Patient"
   ]
  },
  {
   "cell_type": "markdown",
   "metadata": {},
   "source": [
    "## Construct Parameter Fittings\n",
    "This section constructs fitted values\n",
    "The plots constructed in the next section"
   ]
  },
  {
   "cell_type": "code",
   "execution_count": null,
   "metadata": {},
   "outputs": [],
   "source": [
    "# Do some fits\n",
    "# Specify the parameter values\n",
    "parameterDct = {}\n",
    "SBstoat.ModelFitter.addParameter(parameterDct, \"beta\", 0, 10e-5, 3.2e-5)\n",
    "SBstoat.ModelFitter.addParameter(parameterDct, \"kappa\", 0, 10, 4.0)\n",
    "SBstoat.ModelFitter.addParameter(parameterDct, \"delta\", 0, 10, 5.2)\n",
    "SBstoat.ModelFitter.addParameter(parameterDct, \"p\", 0, 1, 4.6e-2)\n",
    "SBstoat.ModelFitter.addParameter(parameterDct, \"c\", 0, 10, 5.2)"
   ]
  },
  {
   "cell_type": "code",
   "execution_count": null,
   "metadata": {},
   "outputs": [],
   "source": [
    "def extractPatientData(timeseries, patient):\n",
    "     newTimeseries = timeseries.copy()\n",
    "     newTimeseries[VIRUS] = newTimeseries[patient]\n",
    "     return newTimeseries.subsetColumns([VIRUS])"
   ]
  },
  {
   "cell_type": "code",
   "execution_count": null,
   "metadata": {},
   "outputs": [],
   "source": [
    "def transformData(timeseries):\n",
    "    \"\"\"\n",
    "    Changes the timeseries to log units\n",
    "    \"\"\"\n",
    "    arr = np.array([1 if v < 1 else v\n",
    "          for v in timeseries[VIRUS]])\n",
    "    timeseries[VIRUS] = np.log10(arr)\n",
    "    return timeseries"
   ]
  },
  {
   "cell_type": "code",
   "execution_count": null,
   "metadata": {},
   "outputs": [],
   "source": [
    "def transformDataArr(timeseries):\n",
    "    \"\"\"\n",
    "    Changes the timeseries to log units\n",
    "    \"\"\"\n",
    "    arr = np.array([1 if v < 1 else v\n",
    "          for v in timeseries[VIRUS]])\n",
    "    return np.log10(arr)"
   ]
  },
  {
   "cell_type": "code",
   "execution_count": null,
   "metadata": {},
   "outputs": [],
   "source": [
    "# Create bootstrapped fitters for all patients\n",
    "def mkFitter(patient, isBootstrap=True):\n",
    "    \"\"\"\n",
    "    Creates a fitter for the patient and runs\n",
    "    bootsrapping. Serializes the fitter to PATH_DCT[patient]/\n",
    "\n",
    "    Parameters\n",
    "    ----------\n",
    "    patient: str\n",
    "    \n",
    "    Returns\n",
    "    -------\n",
    "    ModelFitter\n",
    "    \"\"\"\n",
    "    parameterDct = {}\n",
    "    SBstoat.ModelFitter.addParameter(parameterDct, \"beta\", 0, 10e-5, 3.2e-5)\n",
    "    SBstoat.ModelFitter.addParameter(parameterDct, \"kappa\", 0, 10, 4.0)\n",
    "    SBstoat.ModelFitter.addParameter(parameterDct, \"delta\", 0, 10, 5.2)\n",
    "    SBstoat.ModelFitter.addParameter(parameterDct, \"p\", 0, 1, 4.6e-2)\n",
    "    SBstoat.ModelFitter.addParameter(parameterDct, \"c\", 0, 10, 5.2)\n",
    "    # Obtain the input data\n",
    "    patientObservedTS = extractPatientData(observedTS, patient)\n",
    "    fittedDataTransformDct = {VIRUS: transformDataArr}  # do fit in log units\n",
    "\n",
    "    # Fit parameters to ts1\n",
    "    fitter = SBstoat.ModelFitter(ANTIMONY_MODEL,\n",
    "        patientObservedTS, [\"beta\",\"kappa\",\"delta\",\"p\",\"c\"],\n",
    "        fittedDataTransformDct=fittedDataTransformDct,\n",
    "        parameterDct=parameterDct)\n",
    "    fitter.fitModel()\n",
    "    # Do the bootstrap\n",
    "    reportInterval = int(NUM_BOOTSTRAP_ITERATIONS/10)\n",
    "    if isBootstrap:\n",
    "        fitter.bootstrap(numIteration=NUM_BOOTSTRAP_ITERATIONS,\n",
    "              serializePath=PATH_DCT[patient],\n",
    "              reportInterval=reportInterval)\n",
    "    #\n",
    "    return fitter"
   ]
  },
  {
   "cell_type": "code",
   "execution_count": null,
   "metadata": {},
   "outputs": [],
   "source": [
    "# Construct the parameter fits if they do not exist already\n",
    "fitters = []\n",
    "for patient in patientDct.values():\n",
    "    if os.path.isfile(PATH_DCT[patient]):\n",
    "        fitter = SBstoat.ModelFitter.deserialize(PATH_DCT[patient])\n",
    "    else:\n",
    "        print(\"\\n\\n*** Processing patient %s\"\"\" % patient)\n",
    "        fitter = mkFitter(patient)\n",
    "        fitter.roadrunnerModel = None  # Cannot serialize this object\n",
    "    fitters.append(fitter)\n"
   ]
  },
  {
   "cell_type": "markdown",
   "metadata": {},
   "source": [
    "## Analysis of Bootstrapping Results"
   ]
  },
  {
   "cell_type": "code",
   "execution_count": null,
   "metadata": {},
   "outputs": [],
   "source": [
    "# Plot fits for each patient\n",
    "names = [\"P%d\" % (p+1) for p in patientDct.keys()]\n",
    "numCol = 3\n",
    "numRow = 2\n",
    "fig, axes = plt.subplots(numRow, numCol, figsize=(22, 10))\n",
    "for idx in range(len(PATIENTS)):\n",
    "    if idx < numCol:\n",
    "        row = 0\n",
    "        col = idx\n",
    "    else:\n",
    "        row = 1\n",
    "        col = idx - numCol\n",
    "    ax = axes[row, col]\n",
    "    fitter = fitters[idx]\n",
    "    fitter._isPlot = False\n",
    "    fitter.plotFitAll(params=fitter.bootstrapResult.params, numPoint=100,\n",
    "                     title=PATIENTS[idx], ylim=[0,8], ylabel=\"log10(V)\", ax_spec=ax, numRow=2, position=[row, col])\n",
    "_ = plt.suptitle(\"Fitted vs. Observed values\")\n",
    "#plt.show()"
   ]
  },
  {
   "cell_type": "code",
   "execution_count": null,
   "metadata": {},
   "outputs": [],
   "source": [
    "# Construct parameter plots\n",
    "# TODO: Do horizontal plot of original values\n",
    "patients = [p+1 for p in patientDct.keys()]\n",
    "fig, axes = plt.subplots(5,1, figsize=(12,10))\n",
    "for pos, param in enumerate(PARAMS):\n",
    "    ax = axes[pos]\n",
    "    param = PARAMS[pos]\n",
    "    means = [f.bootstrapResult.parameterMeanDct[param] for f in fitters]\n",
    "    stds = [f.bootstrapResult.parameterStdDct[param] for f in fitters]\n",
    "    y_upper = max([s + m for s, m in zip(stds, means)])*1.1\n",
    "    ax.errorbar(patients, means, yerr=stds, linestyle=\"\")\n",
    "    ax.scatter(patients, means, s=18.0)\n",
    "    values = np.repeat(parameterDct[param].value, len(patients))\n",
    "    ax.plot(patients, values, linestyle=\"dashed\", color=\"grey\")\n",
    "    ax.set_title(param)\n",
    "    ax.set_ylim([0, y_upper])\n",
    "    if pos == len(PARAMS) - 1:\n",
    "        ax.set_xlabel(\"Patient\")\n",
    "_ = plt.suptitle(\"Bootstrap Parameter Estimates With 1-Standard Deviation Error Bars. Dashed line is original value.\")\n"
   ]
  }
 ],
 "metadata": {
  "kernelspec": {
   "display_name": "Python 3",
   "language": "python",
   "name": "python3"
  },
  "language_info": {
   "codemirror_mode": {
    "name": "ipython",
    "version": 3
   },
   "file_extension": ".py",
   "mimetype": "text/x-python",
   "name": "python",
   "nbconvert_exporter": "python",
   "pygments_lexer": "ipython3",
   "version": "3.6.9"
  }
 },
 "nbformat": 4,
 "nbformat_minor": 4
}
