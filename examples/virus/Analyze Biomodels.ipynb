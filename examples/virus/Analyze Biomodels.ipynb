{
 "cells": [
  {
   "cell_type": "code",
   "execution_count": 2,
   "metadata": {},
   "outputs": [],
   "source": [
    "import tellurium as te\n",
    "PATH_PAT = \"/home/ubuntu/SBstoat/biomodels/BIOMD0000000%d.xml\""
   ]
  },
  {
   "cell_type": "code",
   "execution_count": 7,
   "metadata": {},
   "outputs": [
    {
     "data": {
      "text/plain": [
       "367"
      ]
     },
     "execution_count": 7,
     "metadata": {},
     "output_type": "execute_result"
    }
   ],
   "source": [
    "rr.getNumReactions()"
   ]
  },
  {
   "cell_type": "code",
   "execution_count": 5,
   "metadata": {},
   "outputs": [],
   "source": [
    "rr = te.loads(PATH_PAT % 258)\n",
    "#print(rr.getAntimony())"
   ]
  },
  {
   "cell_type": "code",
   "execution_count": 13,
   "metadata": {},
   "outputs": [
    {
     "name": "stdout",
     "output_type": "stream",
     "text": [
      "['time', '[alpha]', '[beta]', '[gamma]']\n"
     ]
    }
   ],
   "source": [
    "rr = te.loads(\"/home/ubuntu/SBstoat/biomodels/BIOMD0000000258.xml\")\n",
    "data = rr.simulate()\n",
    "print(data.colnames)"
   ]
  },
  {
   "cell_type": "code",
   "execution_count": 14,
   "metadata": {},
   "outputs": [
    {
     "name": "stdout",
     "output_type": "stream",
     "text": [
      "['time', '[alpha]', '[beta]', '[gamma_]']\n"
     ]
    }
   ],
   "source": [
    "antimonyModel = rr.getAntimony()\n",
    "newRr = te.loada(antimonyModel)\n",
    "newData = newRr.simulate()\n",
    "print (newData.colnames)"
   ]
  }
 ],
 "metadata": {
  "kernelspec": {
   "display_name": "Python 3",
   "language": "python",
   "name": "python3"
  },
  "language_info": {
   "codemirror_mode": {
    "name": "ipython",
    "version": 3
   },
   "file_extension": ".py",
   "mimetype": "text/x-python",
   "name": "python",
   "nbconvert_exporter": "python",
   "pygments_lexer": "ipython3",
   "version": "3.6.9"
  }
 },
 "nbformat": 4,
 "nbformat_minor": 4
}
