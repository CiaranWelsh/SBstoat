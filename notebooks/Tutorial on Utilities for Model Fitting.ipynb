{
 "cells": [
  {
   "cell_type": "markdown",
   "metadata": {},
   "source": [
    "# SBstoat Tutorial\n",
    "\n",
    "This tutorial discusses helper codes you can use for model fitting with tellurium. The tutorial gives practical examples of to use these codes in a model fitting workflow.\n",
    "\n",
    "For those who want to get right to the quick start section, the follwing information can be scipped over and is only required for advanced users\n",
    "\n",
    "The utilities are in 3 python modules (files):\n",
    "\n",
    "- named_timeseries defines a NamedTimeseries type that allows you to manipulate tabular data that has a time axis. A NamedTimeseries can be initialized from a comma separated variable (CSV) file.\n",
    "- model_fitter defines a ModelFitter type that encapsulates the basics of fitting parameters to a NamedTimeseries. You can simulate the fitted model, and the result is a NamedTimeseries.\n",
    "- timeseries_plotter plots one or two NamedTimeseries. You can have all variables on a single subplot or have separate subplots for each variable.\n",
    "\n",
    "You should open this notebook from ``SBstoat``, then open the folder ``notebooks`` to find this notebook."
   ]
  },
  {
   "cell_type": "markdown",
   "metadata": {},
   "source": [
    "## Quick Start"
   ]
  },
  {
   "cell_type": "markdown",
   "metadata": {},
   "source": [
    "We need to first import the SBstoat python package. You can either use the 'from' symtax shown below or the simpler 'import' syntax, eg import SBstoat\n",
    "The simpler syntax might be more convenient if you want to use the other functions in the SBstoat package because you can use the console help system\n",
    "to quickly identifiy the different packages in SBstoat. Just remember,  when using the simpler syntax use the prefix 'modelFitter.ModeFitter'\n",
    "when creating the fitter object. Note that 'modelFitter' is the package name and 'ModelFitter' with a capital M, is the function that will create the fitter object.\n"
   ]
  },
  {
   "cell_type": "code",
   "execution_count": 1,
   "metadata": {},
   "outputs": [],
   "source": [
    "# Basic imports\n",
    "import SBstoat\n",
    "%matplotlib inline"
   ]
  },
  {
   "cell_type": "markdown",
   "metadata": {},
   "source": [
    "Let's first define our model. This is a five-step pathway with five unknown parameterss, k1 to k6\n",
    "\n"
   ]
  },
  {
   "cell_type": "code",
   "execution_count": 2,
   "metadata": {},
   "outputs": [],
   "source": [
    "# Model of a linear pathway\n",
    "ANTIMONY_MODEL = \"\"\" \n",
    "# Reactions   \n",
    "    J1: S1 -> S2; k1*S1\n",
    "    J2: S2 -> S3; k2*S2\n",
    "    J3: S3 -> S4; k3*S3\n",
    "    J4: S4 -> S5; k4*S4\n",
    "    J5: S5 -> S6; k5*S5;\n",
    "# Species initializations\n",
    "    S1 = 10;\n",
    "    S2 = 0;\n",
    "    S3 = 0;\n",
    "    S4 = 0;\n",
    "    S5 = 0;\n",
    "    S6 = 0;\n",
    "    k1 = 1;\n",
    "    k2 = 2;\n",
    "    k3 = 3;\n",
    "    k4 = 4;\n",
    "    k5 = 5;\n",
    "\"\"\""
   ]
  },
  {
   "cell_type": "markdown",
   "metadata": {},
   "source": [
    "Next we actually fit the model to some data. This just requies two lines:\n",
    "\n",
    "1. Create the fitting object: This requires the model (antimony or roadrunner), the data to fit the model and what parameters you want to fit.\n",
    "2. The second line causes the fitting to take place.\n",
    "\n",
    "The data file is just a normal CSV file, where the first column is time and the remaining columns are what ever you have measured.\n",
    "In this case the data file has all five-step species recorded in time, hence it has one column for utime and six columns for the siz species.\n",
    "\n",
    "By default, the fitter will use all the data it finds in the data file unless specified otherwise.\n"
   ]
  },
  {
   "cell_type": "code",
   "execution_count": 3,
   "metadata": {},
   "outputs": [],
   "source": [
    "# Fit parameters to ts1\n",
    "fitter = SBstoat.ModelFitter(ANTIMONY_MODEL, \"tst_data.txt\", [\"k1\", \"k2\", \"k3\", \"k4\", \"k5\"])\n",
    "fitter.fitModel()"
   ]
  },
  {
   "cell_type": "markdown",
   "metadata": {},
   "source": [
    "If the fit was successful (no error is reported),\n",
    "you can ask the fitter for information on what the results were using the reportFit call:\n"
   ]
  },
  {
   "cell_type": "code",
   "execution_count": 4,
   "metadata": {},
   "outputs": [
    {
     "name": "stdout",
     "output_type": "stream",
     "text": [
      "[[Variables]]\n",
      "    k1:  0.955789442860191\n",
      "    k2:  2.2407776807094004\n",
      "    k3:  2.967638483699222\n",
      "    k4:  3.0765412667273306\n",
      "    k5:  5.908006830802661\n",
      "[[Fit Statistics]]\n",
      "    # fitting method   = leastsq\n",
      "    # function evals   = 44\n",
      "    # data points      = 180\n",
      "    # variables        = 5\n",
      "    chi-square         = 73.2546170\n",
      "    reduced chi-square = 0.41859781\n",
      "    Akaike info crit   = -151.822803\n",
      "    Bayesian info crit = -135.858019\n",
      "[[Correlations]] (unreported correlations are < 0.100)\n",
      "    C(k4, k5) = -0.248\n",
      "    C(k3, k4) = -0.226\n",
      "    C(k2, k3) = -0.218\n",
      "    C(k3, k5) = -0.211\n",
      "    C(k2, k4) = -0.189\n",
      "    C(k1, k2) = -0.179\n",
      "    C(k2, k5) = -0.178\n",
      "    C(k1, k3) = -0.147\n",
      "    C(k1, k5) = -0.144\n",
      "    C(k1, k4) = -0.141\n"
     ]
    }
   ],
   "source": [
    "# Provide fit details\n",
    "print(fitter.reportFit())"
   ]
  },
  {
   "cell_type": "markdown",
   "metadata": {},
   "source": [
    "More advanced users may want control over the optimizer method used to do the fit as well as the parameters passed to these methods. Below is an example for the ``differential_evolution`` method."
   ]
  },
  {
   "cell_type": "code",
   "execution_count": 20,
   "metadata": {},
   "outputs": [
    {
     "name": "stdout",
     "output_type": "stream",
     "text": [
      "[[Variables]]\n",
      "    k1:  0.73379992896702\n",
      "    k2:  2.6536557048047187\n",
      "    k3:  4.469159188466452\n",
      "    k4:  9.75697867697164\n",
      "    k5:  4.441457750957991\n",
      "[[Fit Statistics]]\n",
      "    # fitting method   = differential_evolution\n",
      "    # function evals   = 101\n",
      "    # data points      = 180\n",
      "    # variables        = 5\n",
      "    chi-square         = 768.708742\n",
      "    reduced chi-square = 4.39262138\n",
      "    Akaike info crit   = 271.315954\n",
      "    Bayesian info crit = 287.280738\n",
      "##  Warning: uncertainties could not be estimated:\n",
      "    this fitting method does not natively calculate uncertainties\n",
      "    and numdifftools is not installed for lmfit to do this. Use\n",
      "    `pip install numdifftools` for lmfit to estimate uncertainties\n",
      "    with this fitting method.\n"
     ]
    }
   ],
   "source": [
    "optimizerMethod = SBstoat.ModelFitter.OptimizerMethod(\n",
    "    method=\"differential_evolution\",\n",
    "    kwargs={ \"popsize\": 10000, \"atol\": 0.001, \"maxiter\": 1000})\n",
    "fitter = SBstoat.ModelFitter(ANTIMONY_MODEL, \"tst_data.txt\", [\"k1\", \"k2\", \"k3\", \"k4\", \"k5\"], fitterMethods=[optimizerMethod])\n",
    "fitter.fitModel()\n",
    "print(fitter.reportFit())"
   ]
  },
  {
   "cell_type": "code",
   "execution_count": null,
   "metadata": {},
   "outputs": [],
   "source": [
    "# Plot the fitl\n",
    "fitter.plotFitAll(numRow=2, numCol=3)"
   ]
  },
  {
   "cell_type": "code",
   "execution_count": null,
   "metadata": {},
   "outputs": [],
   "source": [
    "# Plot residuals\n",
    "fitter.plotResiduals(numRow=2, numCol=3)"
   ]
  },
  {
   "cell_type": "code",
   "execution_count": null,
   "metadata": {},
   "outputs": [],
   "source": [
    "# Many residuals plots are available.\n",
    "fitter.plotResidualsAll(numCol=3, titleFontsize=8)"
   ]
  },
  {
   "cell_type": "code",
   "execution_count": null,
   "metadata": {},
   "outputs": [],
   "source": [
    "# Get estimates of parameter variance by using bootstrapping\n",
    "fitter.bootstrap(numIteration=2000, reportInterval=500)\n",
    "print(fitter.getParameterStds())"
   ]
  },
  {
   "cell_type": "code",
   "execution_count": null,
   "metadata": {},
   "outputs": [],
   "source": [
    "# Look at the distribution of the parameter fits.\n",
    "fitter.plotParameterHistograms(figsize=(10,8), ylim=[0, 3], xlim=[0, 6], bins=50, titlePosition=[.5,1])"
   ]
  },
  {
   "cell_type": "code",
   "execution_count": null,
   "metadata": {},
   "outputs": [],
   "source": [
    "?fitter.plotFitAll"
   ]
  },
  {
   "cell_type": "code",
   "execution_count": null,
   "metadata": {},
   "outputs": [],
   "source": [
    "# Look at interactions between parameter estimates\n",
    "fitter.plotParameterEstimatePairs(figsize=(10,8), ylim=[0, 10], xlim=[0, 10], markersize=2)"
   ]
  },
  {
   "cell_type": "code",
   "execution_count": null,
   "metadata": {},
   "outputs": [],
   "source": [
    "fitter.reportBootstrap()"
   ]
  },
  {
   "cell_type": "markdown",
   "metadata": {},
   "source": [
    "## Detailed Tutorial"
   ]
  },
  {
   "cell_type": "code",
   "execution_count": null,
   "metadata": {},
   "outputs": [],
   "source": [
    "# Import the modules needed.\n",
    "import numpy as np\n",
    "TIME = SBstoat.TIME"
   ]
  },
  {
   "cell_type": "markdown",
   "metadata": {},
   "source": [
    "## Manipulating Tabular Data\n",
    "Tables are a great way to describe data. Tables are a collection of values organized into rows and columns. Typically, the columns have names. Common operations on tables are:\n",
    "\n",
    "- Create a table from a file\n",
    "- Create a new table from a subset of rows and/or columns\n",
    "- Create new columns and/rows by performing addition, subtaction, and other operations on table rows and columns.\n",
    "\n",
    "Many systems provide table representations. Spreadsheets are widely used. In the R language, a dataframe is a table. In python, the pandas package provides a python version of dataframes.\n",
    "\n",
    "Pandas is very powerful, but it is slow. numpy provides arrays and matrices, but these lack the convenience of column names. In addition, the variables we analyze are collected at the same timepoints, and so it's important to associate these timepoints with the variable values.\n",
    "\n",
    "``NamedTimeseries`` is a thin layer on top of numpy ``ndarray`` that provides an efficient table abstraction. Efficiency is a particular concern for model fitting since fitting can be very numerically intensive."
   ]
  },
  {
   "cell_type": "markdown",
   "metadata": {},
   "source": [
    "Let's start by creating a ``NamedTimeseries`` from the file ``tst_data.txt``. In python, an object is created from a constructor that is the class name followed by arguments. There are several constructors for ``NamedTimeseries``."
   ]
  },
  {
   "cell_type": "code",
   "execution_count": null,
   "metadata": {},
   "outputs": [],
   "source": [
    "ts1 = SBstoat.NamedTimeseries(csvPath=\"tst_data.txt\")  # Construct from a file\n",
    "print(ts1)"
   ]
  },
  {
   "cell_type": "markdown",
   "metadata": {},
   "source": [
    "There are 7 columns (including \"time\") and 30 rows. All ``NamedTimeseries`` have a \"time\" column. In fact, the python variable ``TIME`` can be used to reference this column."
   ]
  },
  {
   "cell_type": "markdown",
   "metadata": {},
   "source": [
    "We reference rows by their \"index\", their count from 0. In fact, we can make a new ``NamedTimeseries`` that consists of a subset of the rows."
   ]
  },
  {
   "cell_type": "code",
   "execution_count": null,
   "metadata": {},
   "outputs": [],
   "source": [
    "# Get the first row\n",
    "print(ts1[1])"
   ]
  },
  {
   "cell_type": "code",
   "execution_count": null,
   "metadata": {},
   "outputs": [],
   "source": [
    "# Get rows 1, 3, 5\n",
    "print(ts1[[1, 3, 5]])"
   ]
  },
  {
   "cell_type": "code",
   "execution_count": null,
   "metadata": {},
   "outputs": [],
   "source": [
    "# Get rows 1 through 5\n",
    "# This is a slice; you specify the first row you want and where the slice stops\n",
    "ts2 = ts1[1:6]\n",
    "print(ts2)"
   ]
  },
  {
   "cell_type": "markdown",
   "metadata": {},
   "source": [
    "We can also select columns. A column select produces a ``numpy`` ``ndarray``, not at ``NamedArray``. This is done so that we can manipulate column selections using the powerful numpy facilities."
   ]
  },
  {
   "cell_type": "code",
   "execution_count": null,
   "metadata": {},
   "outputs": [],
   "source": [
    "ts2[\"S1\"]  # Column S1 in ts2"
   ]
  },
  {
   "cell_type": "markdown",
   "metadata": {},
   "source": [
    "To get the numpy array for a list of columns, we give the list."
   ]
  },
  {
   "cell_type": "code",
   "execution_count": null,
   "metadata": {},
   "outputs": [],
   "source": [
    "ts2[[\"S1\", \"S2\"]]"
   ]
  },
  {
   "cell_type": "markdown",
   "metadata": {},
   "source": [
    "To get a **new timeseries** that just has \"S1\", you use ``subsetColumns``."
   ]
  },
  {
   "cell_type": "code",
   "execution_count": null,
   "metadata": {},
   "outputs": [],
   "source": [
    "ts2a = ts2.subsetColumns(\"S1\")\n",
    "print(ts2a)"
   ]
  },
  {
   "cell_type": "code",
   "execution_count": null,
   "metadata": {},
   "outputs": [],
   "source": [
    "# Create a timeseries from ts2 with just S1, S2\n",
    "print(ts2.subsetColumns([\"S1\", \"S2\"]))"
   ]
  },
  {
   "cell_type": "markdown",
   "metadata": {},
   "source": [
    "We can add columns to the timeseries. Here, we add a column with a constant value of 1."
   ]
  },
  {
   "cell_type": "code",
   "execution_count": null,
   "metadata": {},
   "outputs": [],
   "source": [
    "ts2[\"constant_1\"] = 1\n",
    "print(ts2)"
   ]
  },
  {
   "cell_type": "markdown",
   "metadata": {},
   "source": [
    "We can also do calculations and create new columns with the results."
   ]
  },
  {
   "cell_type": "code",
   "execution_count": null,
   "metadata": {},
   "outputs": [],
   "source": [
    "ts2[\"New_Calculation\"] = ts2[\"S1\"] + np.multiply(ts2[\"S2\"], ts2[TIME])\n",
    "ts2[\"Other_Calculation\"] = ts2[\"S1\"] + 10*np.multiply(ts2[\"S2\"], ts2[TIME])\n",
    "print(ts2)"
   ]
  },
  {
   "cell_type": "code",
   "execution_count": null,
   "metadata": {},
   "outputs": [],
   "source": [
    "# Let's get rid of Other_Calculation\n",
    "del ts2[\"Other_Calculation\"]\n",
    "print(ts2)"
   ]
  },
  {
   "cell_type": "markdown",
   "metadata": {},
   "source": [
    "We can combine the rows and columns of a ``NamedTimeseries`` to make a new ``NamedTimeseries``."
   ]
  },
  {
   "cell_type": "code",
   "execution_count": null,
   "metadata": {},
   "outputs": [],
   "source": [
    "ts3 = ts2.subsetColumns([\"S1\", \"S2\"])\n",
    "ts4 = ts2.subsetColumns(\"S3\")\n",
    "ts5 = ts2.subsetColumns(\"New_Calculation\")\n",
    "ts6 = ts3.concatenateColumns([ts4, ts5])  # Has S1, S2, S3, New_Calculation\"\n",
    "print(ts6)"
   ]
  },
  {
   "cell_type": "code",
   "execution_count": null,
   "metadata": {},
   "outputs": [],
   "source": [
    "ts7 = ts1[:2]\n",
    "ts8 = ts1[2:4]\n",
    "ts9 = ts1[4:6]\n",
    "ts10 = ts7.concatenateRows([ts8, ts9])  # First 6 rows of ts1\n",
    "print(ts10)"
   ]
  },
  {
   "cell_type": "code",
   "execution_count": null,
   "metadata": {},
   "outputs": [],
   "source": [
    "# Save the result in a file\n",
    "ts2.to_csv(\"new_data.csv\")"
   ]
  },
  {
   "cell_type": "code",
   "execution_count": null,
   "metadata": {},
   "outputs": [],
   "source": [
    "# To see the file, we run a command in the operating system shell. The following works in Unix and Mac.\n",
    "!cat new_data.csv"
   ]
  },
  {
   "cell_type": "markdown",
   "metadata": {},
   "source": [
    "## Plotting Tabular Data\n",
    "We provide 4 types of plots with user controllable options for the plots. The plots are:\n",
    "\n",
    "1. Plot all variables of one table on a single plot.\n",
    "1. Plot all variables of one table in one plot and all variables of second plot\n",
    "1. Plot each variable of a table in a separate plot\n",
    "1.  Plot each variable of two tables in the same plot"
   ]
  },
  {
   "cell_type": "code",
   "execution_count": null,
   "metadata": {},
   "outputs": [],
   "source": [
    "# Create the plotter object\n",
    "plotter = SBstoat.TimeseriesPlotter()"
   ]
  },
  {
   "cell_type": "code",
   "execution_count": null,
   "metadata": {},
   "outputs": [],
   "source": [
    "# To see the plotting options...\n",
    "?plotter.plotHistograms"
   ]
  },
  {
   "cell_type": "code",
   "execution_count": null,
   "metadata": {},
   "outputs": [],
   "source": [
    "# Case 1: Plot all variables of a single table on a single plot\n",
    "plotter.plotTimeMultiple(ts1)\n",
    "plotter.plotTimeMultiple(ts1, timeseries2=ts1, marker=\"o\")"
   ]
  },
  {
   "cell_type": "code",
   "execution_count": null,
   "metadata": {},
   "outputs": [],
   "source": [
    "# We can also plot a subset of the variables in a single plot\n",
    "plotter.plotTimeMultiple(ts1, columns=[\"S1\", \"S6\"])"
   ]
  },
  {
   "cell_type": "code",
   "execution_count": null,
   "metadata": {},
   "outputs": [],
   "source": [
    "# Add to the plot with options\n",
    "plotter.plotTimeMultiple(ts1, columns=[\"S1\", \"S6\"], ylabel=\"concetration\", title=\"Two Variables\")"
   ]
  },
  {
   "cell_type": "code",
   "execution_count": null,
   "metadata": {},
   "outputs": [],
   "source": [
    "# Create a second table for comparisons. We can access all non-time variables using the property colnames.\n",
    "ts4 = ts1.copy()  # Create a copy of the timeseries\n",
    "ts4[ts4.colnames] = 5*np.cos(ts4[ts4.colnames]) + 2*ts4[ts4.colnames]"
   ]
  },
  {
   "cell_type": "code",
   "execution_count": null,
   "metadata": {},
   "outputs": [],
   "source": [
    "# Case 2: Plot two multiple variable plots, side-by-side\n",
    "plotter.plotTimeMultiple(ts1, timeseries2=ts4)"
   ]
  },
  {
   "cell_type": "code",
   "execution_count": null,
   "metadata": {},
   "outputs": [],
   "source": [
    "# Case 3: Separate plot for each variable of a single table\n",
    "plotter.plotTimeSingle(ts1, numRow=2, numCol=3, timeseries2=ts2,\n",
    "                      figsize=(10,8), marker=\"o\")"
   ]
  },
  {
   "cell_type": "code",
   "execution_count": null,
   "metadata": {},
   "outputs": [],
   "source": [
    "# Case 4: Separate plot for each variable for two tables\n",
    "plotter.plotTimeSingle(ts1, timeseries2=ts2, figsize=(10, 8))"
   ]
  },
  {
   "cell_type": "markdown",
   "metadata": {},
   "source": [
    "## Fitting Parameters of a Model\n",
    "Kinetics models frequently have unknown constants that need to be estimated. This process of estimation is called model fitting, or just fitting. Fitting involves running multiple simulations with different values of parameters to find values that result in a good match between simulated and measured species concentrations."
   ]
  },
  {
   "cell_type": "code",
   "execution_count": null,
   "metadata": {},
   "outputs": [],
   "source": [
    "ANTIMONY_MODEL = \"\"\" \n",
    "# Reactions   \n",
    "    J1: S1 -> S2; k1*S1\n",
    "    J2: S2 -> S3; k2*S2\n",
    "    J3: S3 -> S4; k3*S3\n",
    "    J4: S4 -> S5; k4*S4\n",
    "    J5: S5 -> S6; k5*S5;\n",
    "# Species initializations\n",
    "    S1 = 10;\n",
    "    S2 = 0;\n",
    "    S3 = 0;\n",
    "    S4 = 0;\n",
    "    S5 = 0;\n",
    "    S6 = 0;\n",
    "    k1 = 1;\n",
    "    k2 = 2;\n",
    "    k3 = 3;\n",
    "    k4 = 4;\n",
    "    k5 = 5;\n",
    "\"\"\""
   ]
  },
  {
   "cell_type": "markdown",
   "metadata": {},
   "source": [
    "This model has the parameters ``k1, k2, k3, k4, k5``, the kinetics constants for their respective reactions. In this case, we know the true value of the parameters, which are specified at the bottom of the model. This knowledge provides a way to explore the effectiveness of model fitting.\n",
    "\n",
    "This model is a linear pathway where mass moves from species ``S1`` to ``S6`` over time. The rate at which this happens depends on the kinetics constants.\n",
    "\n",
    "Let's see how well we can fit this model to the ``ts1`` data described in the first section."
   ]
  },
  {
   "cell_type": "code",
   "execution_count": null,
   "metadata": {},
   "outputs": [],
   "source": [
    "print(ts1)"
   ]
  },
  {
   "cell_type": "markdown",
   "metadata": {},
   "source": [
    "The fitting data has values for each of the six floating species. Model fitting works iteratively varying the values of the parameters, simulating the model with these parameters, and then evaluating how close the simulation is to the fitting data.\n",
    "\n",
    "So, to do a fit, we must specify:\n",
    "\n",
    "1. The model to fit\n",
    "1. The fitting data\n",
    "1. The parameters to estimate\n",
    "\n",
    "To elaborate on point (3), often models contain some parameters whose values are known and others that aren't.\n",
    "\n",
    "The class ``ModelFitter`` is used to do fitting. The constructor must specify all 3 items above. If parameters is None, then no fitting is done."
   ]
  },
  {
   "cell_type": "code",
   "execution_count": null,
   "metadata": {},
   "outputs": [],
   "source": [
    "# Run the model using the parameter values in the model. There is no fitting.\n",
    "base_fitter = SBstoat.ModelFitter(ANTIMONY_MODEL, ts1, None)"
   ]
  },
  {
   "cell_type": "markdown",
   "metadata": {},
   "source": [
    "There are other options as well, such as choosing a subset of columns for the fit."
   ]
  },
  {
   "cell_type": "code",
   "execution_count": null,
   "metadata": {},
   "outputs": [],
   "source": [
    "# Fit parameters to ts1\n",
    "fitter = SBstoat.ModelFitter(ANTIMONY_MODEL, \"tst_data.txt\", [\"k1\", \"k2\", \"k3\", \"k4\", \"k5\"], selectedColumns=[\"S1\", \"S2\"])"
   ]
  },
  {
   "cell_type": "code",
   "execution_count": null,
   "metadata": {},
   "outputs": [],
   "source": [
    "# Fit parameters to ts1 S1, S2\n",
    "fitter = SBstoat.ModelFitter(ANTIMONY_MODEL, \"tst_data.txt\", [\"k1\", \"k2\", \"k3\", \"k4\", \"k5\"])\n",
    "fitter.fitModel()"
   ]
  },
  {
   "cell_type": "markdown",
   "metadata": {},
   "source": [
    "To fit a model, we use the ``fitModel`` method. We can then see the optimized residual variance and the values of the model parameters."
   ]
  },
  {
   "cell_type": "code",
   "execution_count": null,
   "metadata": {},
   "outputs": [],
   "source": [
    "base_fitter.fitModel()"
   ]
  },
  {
   "cell_type": "code",
   "execution_count": null,
   "metadata": {},
   "outputs": [],
   "source": [
    "# The model without fitting any parameters\n",
    "ts_base = SBstoat.NamedTimeseries(namedArray=base_fitter.roadrunnerModel.simulate(0, 4, 30))\n",
    "plotter.plotTimeSingle(ts_base, numRow=2)"
   ]
  },
  {
   "cell_type": "markdown",
   "metadata": {},
   "source": [
    "This is a bit crowded for detailed comparisons. So, we make comparisons between each variable."
   ]
  },
  {
   "cell_type": "markdown",
   "metadata": {},
   "source": [
    "In our running example, the values of parameters in the original model are their true value. Ideally, we want to achieve a variance close to this. We create a new fitter object since we still want to have access to the unchanged model that we started with."
   ]
  },
  {
   "cell_type": "code",
   "execution_count": null,
   "metadata": {},
   "outputs": [],
   "source": [
    "parameterNames = [\"k%d\" % i for i in range(1, 6)]\n",
    "fitter = SBstoat.ModelFitter(ANTIMONY_MODEL, ts1, parameterNames)\n",
    "fitter.fitModel()\n",
    "print(\"residual variance of the fitted model: %3.2f\" % np.var(fitter.residualsTS.flatten()))\n",
    "print(\"Values of fitted parameters: %s\" % str(fitter.getParameterMeans()))"
   ]
  },
  {
   "cell_type": "markdown",
   "metadata": {},
   "source": [
    "Now let's compare the fitted model with the data."
   ]
  },
  {
   "cell_type": "code",
   "execution_count": null,
   "metadata": {},
   "outputs": [],
   "source": [
    "fittedModel = fitter.roadrunnerModel\n",
    "fittedModel.reset()\n",
    "fittedTS = SBstoat.NamedTimeseries(namedArray=fittedModel.simulate(ts1.start, ts1.end, len(ts1)))\n",
    "plotter.plotTimeMultiple(ts1, timeseries2=fittedTS, marker=\"o\")"
   ]
  },
  {
   "cell_type": "code",
   "execution_count": null,
   "metadata": {},
   "outputs": [],
   "source": [
    "plotter.plotTimeSingle(ts1, timeseries2=fittedTS, numRow=2, numCol=3, figsize=(12, 10), marker=\"o\")"
   ]
  },
  {
   "cell_type": "code",
   "execution_count": null,
   "metadata": {},
   "outputs": [],
   "source": [
    "# Plot pairs of values\n",
    "plotter.plotValuePairs(fittedTS, pairs=[(\"S1\", \"S2\"), (\"S1\", \"S6\"), (\"S2\", \"S3\")], numCol=2)"
   ]
  },
  {
   "cell_type": "code",
   "execution_count": null,
   "metadata": {},
   "outputs": [],
   "source": [
    "fitter.plotFitAll(numCol=2, numRow=1, isMultiple=True)"
   ]
  },
  {
   "cell_type": "code",
   "execution_count": null,
   "metadata": {},
   "outputs": [],
   "source": [
    "fitter.plotFitAll(numRow=2, numCol=2, figsize=(12, 10), color=[\"red\", \"blue\"], alpha=[1.0, 0.3],\n",
    "                 markersize=3)"
   ]
  },
  {
   "cell_type": "markdown",
   "metadata": {},
   "source": [
    "Sometimes, the observed values are in different units than what is produced by the simulation. So, fitted values must be transformed.\n",
    "This is done by specifying fittedDataTransformationDct, a dictionary of functions for transformming fitted values."
   ]
  },
  {
   "cell_type": "code",
   "execution_count": null,
   "metadata": {},
   "outputs": [],
   "source": [
    "# Specify a data transformation for S1. It should be a function of the entire timeseries and return a new value for S1.\n",
    "FACTOR = 10\n",
    "def transformS1(ts):\n",
    "    return FACTOR*ts[\"S1\"]"
   ]
  },
  {
   "cell_type": "code",
   "execution_count": null,
   "metadata": {},
   "outputs": [],
   "source": [
    "# Create transformed observed data\n",
    "ts1_new = ts1.copy()\n",
    "ts1_new[\"S1\"] = transformS1(ts1)"
   ]
  },
  {
   "cell_type": "markdown",
   "metadata": {},
   "source": [
    "Note that running the fit where we have transformed the observational data and the fitted data by the same amount results in substantially the same fit."
   ]
  },
  {
   "cell_type": "code",
   "execution_count": null,
   "metadata": {},
   "outputs": [],
   "source": [
    "fitter = SBstoat.ModelFitter(ANTIMONY_MODEL, ts1_new, parameterNames, fittedDataTransformDct={\"S1\": transformS1})\n",
    "fitter.fitModel()\n",
    "print(fitter.reportFit())"
   ]
  }
 ],
 "metadata": {
  "kernelspec": {
   "display_name": "Python 3",
   "language": "python",
   "name": "python3"
  },
  "language_info": {
   "codemirror_mode": {
    "name": "ipython",
    "version": 3
   },
   "file_extension": ".py",
   "mimetype": "text/x-python",
   "name": "python",
   "nbconvert_exporter": "python",
   "pygments_lexer": "ipython3",
   "version": "3.6.9"
  }
 },
 "nbformat": 4,
 "nbformat_minor": 4
}
