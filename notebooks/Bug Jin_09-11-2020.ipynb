{
 "cells": [
  {
   "cell_type": "markdown",
   "metadata": {},
   "source": [
    "# Bug Jin_09-11-2020"
   ]
  },
  {
   "cell_type": "code",
   "execution_count": 32,
   "metadata": {},
   "outputs": [],
   "source": [
    "import os\n",
    "import pandas as pd\n",
    "import numpy as np\n",
    "import matplotlib.pyplot as plt"
   ]
  },
  {
   "cell_type": "code",
   "execution_count": 14,
   "metadata": {},
   "outputs": [],
   "source": [
    "input_file = \"/home/ubuntu/SBstoat/bugs/jin_09-11-2020/Influenza.csv\""
   ]
  },
  {
   "cell_type": "code",
   "execution_count": 26,
   "metadata": {},
   "outputs": [
    {
     "data": {
      "text/html": [
       "<div>\n",
       "<style scoped>\n",
       "    .dataframe tbody tr th:only-of-type {\n",
       "        vertical-align: middle;\n",
       "    }\n",
       "\n",
       "    .dataframe tbody tr th {\n",
       "        vertical-align: top;\n",
       "    }\n",
       "\n",
       "    .dataframe thead th {\n",
       "        text-align: right;\n",
       "    }\n",
       "</style>\n",
       "<table border=\"1\" class=\"dataframe\">\n",
       "  <thead>\n",
       "    <tr style=\"text-align: right;\">\n",
       "      <th></th>\n",
       "      <th>P0</th>\n",
       "      <th>P1</th>\n",
       "      <th>P2</th>\n",
       "      <th>P3</th>\n",
       "      <th>P4</th>\n",
       "      <th>P5</th>\n",
       "    </tr>\n",
       "    <tr>\n",
       "      <th>time</th>\n",
       "      <th></th>\n",
       "      <th></th>\n",
       "      <th></th>\n",
       "      <th></th>\n",
       "      <th></th>\n",
       "      <th></th>\n",
       "    </tr>\n",
       "  </thead>\n",
       "  <tbody>\n",
       "    <tr>\n",
       "      <th>0</th>\n",
       "      <td>2.0</td>\n",
       "      <td>1.0</td>\n",
       "      <td>2.5</td>\n",
       "      <td>3.5</td>\n",
       "      <td>2.5</td>\n",
       "      <td>4.0</td>\n",
       "    </tr>\n",
       "    <tr>\n",
       "      <th>1</th>\n",
       "      <td>5.5</td>\n",
       "      <td>6.0</td>\n",
       "      <td>5.0</td>\n",
       "      <td>5.5</td>\n",
       "      <td>3.0</td>\n",
       "      <td>5.0</td>\n",
       "    </tr>\n",
       "    <tr>\n",
       "      <th>2</th>\n",
       "      <td>4.0</td>\n",
       "      <td>3.0</td>\n",
       "      <td>5.0</td>\n",
       "      <td>6.5</td>\n",
       "      <td>6.5</td>\n",
       "      <td>5.5</td>\n",
       "    </tr>\n",
       "    <tr>\n",
       "      <th>3</th>\n",
       "      <td>5.5</td>\n",
       "      <td>1.5</td>\n",
       "      <td>3.0</td>\n",
       "      <td>5.5</td>\n",
       "      <td>6.5</td>\n",
       "      <td>7.5</td>\n",
       "    </tr>\n",
       "    <tr>\n",
       "      <th>4</th>\n",
       "      <td>3.0</td>\n",
       "      <td>3.5</td>\n",
       "      <td>5.5</td>\n",
       "      <td>3.5</td>\n",
       "      <td>2.0</td>\n",
       "      <td>5.5</td>\n",
       "    </tr>\n",
       "    <tr>\n",
       "      <th>5</th>\n",
       "      <td>0.0</td>\n",
       "      <td>1.3</td>\n",
       "      <td>3.5</td>\n",
       "      <td>4.0</td>\n",
       "      <td>0.8</td>\n",
       "      <td>1.3</td>\n",
       "    </tr>\n",
       "    <tr>\n",
       "      <th>6</th>\n",
       "      <td>0.0</td>\n",
       "      <td>0.0</td>\n",
       "      <td>0.0</td>\n",
       "      <td>0.0</td>\n",
       "      <td>0.0</td>\n",
       "      <td>0.0</td>\n",
       "    </tr>\n",
       "  </tbody>\n",
       "</table>\n",
       "</div>"
      ],
      "text/plain": [
       "       P0   P1   P2   P3   P4   P5\n",
       "time                              \n",
       "0     2.0  1.0  2.5  3.5  2.5  4.0\n",
       "1     5.5  6.0  5.0  5.5  3.0  5.0\n",
       "2     4.0  3.0  5.0  6.5  6.5  5.5\n",
       "3     5.5  1.5  3.0  5.5  6.5  7.5\n",
       "4     3.0  3.5  5.5  3.5  2.0  5.5\n",
       "5     0.0  1.3  3.5  4.0  0.8  1.3\n",
       "6     0.0  0.0  0.0  0.0  0.0  0.0"
      ]
     },
     "execution_count": 26,
     "metadata": {},
     "output_type": "execute_result"
    }
   ],
   "source": [
    "# Convert input file to correct format\n",
    "df_data = pd.read_csv(input_file, header=None)\n",
    "df_data = df_data.transpose()\n",
    "df_data.index.name = \"time\"\n",
    "name_dct = {p: \"P%d\" % p for p in range(6)}\n",
    "df_data = df_data.rename(columns=name_dct)\n",
    "df_data"
   ]
  },
  {
   "cell_type": "markdown",
   "metadata": {},
   "source": [
    "There are 6 patients with one value to fit. So, there are 6 different fits."
   ]
  },
  {
   "cell_type": "code",
   "execution_count": 28,
   "metadata": {},
   "outputs": [],
   "source": [
    "# Influenza, SARS and SARS-CoV3 in Tellurium\n",
    "\n",
    "### A simple target cell-limited model, T ==> E ==> I --> produce V:\n",
    "# T - number of target cells\n",
    "# E - number of exposed cells (virus replicating inside, not yet spreading virus)\n",
    "# I - number of infected cells (active virus production)\n",
    "# V - viral titre, in units of TCID50/ml of biofluid wash (for Influenza)\n",
    "\n",
    "### The ODEs\n",
    "# dT/dt = - beta*T*V\n",
    "# dE/dt =   beta*T*V - kappa*E;\n",
    "# dI/dt =   kappa * E - delta*I;\n",
    "# dV/dt =   p*y(I) - c*y(V);\n",
    "\n",
    "\n",
    "import tellurium as te\n",
    "import SBstoat\n",
    "\n",
    "\n",
    "\n",
    "ANTIMONY_MODEL  = '''\n",
    "    // Equations\n",
    "    E1: T -> E ; beta*T*V ; // Target cells to exposed\n",
    "    E2: E -> I ; kappa*E ;  // Exposed cells to infected\n",
    "    E3: -> V ; p*I ;        // Virus production by infected cells\n",
    "    E4: V -> ; c*V ;        // Virus clearance\n",
    "    E5: I -> ; delta*I      // Death of infected cells    \n",
    "\n",
    "    // Parameters - from the Influenza article,\n",
    "        \n",
    "    beta = 3.2e-5;  // rate of transition of target(T) to exposed(E) cells, in units of 1/[V] * 1/day\n",
    "    kappa = 4.0;    // rate of transition from exposed(E) to infected(I) cells, in units of 1/day\n",
    "    delta = 5.2;    // rate of death of infected cells(I), in units of 1/day\n",
    "    p = 4.6e-2;     // rate virus(V) producion by infected cells(I), in units of [V]/day\n",
    "    c = 5.2;        // rate of virus clearance, in units of 1/day\n",
    "\n",
    "    // Initial conditions\n",
    "    T = 4E+8 // estimate of the total number of susceptible epithelial cells\n",
    "             // in upper respiratory tract)\n",
    "    E = 0\n",
    "    I = 0\n",
    "    V = 0.75 // the dose of virus in TCID50 in Influenza experiment; could be V=0 and I = 20 instead for a natural infection\n",
    "\n",
    "'''\n"
   ]
  },
  {
   "cell_type": "code",
   "execution_count": 33,
   "metadata": {},
   "outputs": [
    {
     "data": {
      "text/plain": [
       "[<matplotlib.lines.Line2D at 0x7fc19702b860>]"
      ]
     },
     "execution_count": 33,
     "metadata": {},
     "output_type": "execute_result"
    },
    {
     "data": {
      "image/png": "[encoded data removed]",
      "text/plain": [
       "<Figure size 432x288 with 1 Axes>"
      ]
     },
     "metadata": {
      "needs_background": "light"
     },
     "output_type": "display_data"
    }
   ],
   "source": [
    "rr = te.loada(ANTIMONY_MODEL)\n",
    "estimates = rr.simulate()\n",
    "v_estimate = np.log10(estimates[\"[V]\"])\n",
    "plt.plot(estimates[\"time\"], v_estimate)"
   ]
  },
  {
   "cell_type": "code",
   "execution_count": 27,
   "metadata": {},
   "outputs": [
    {
     "ename": "ValueError",
     "evalue": "Must have exactly one time column",
     "output_type": "error",
     "traceback": [
      "\u001b[0;31m---------------------------------------------------------------------------\u001b[0m",
      "\u001b[0;31mValueError\u001b[0m                                Traceback (most recent call last)",
      "\u001b[0;32m<ipython-input-27-24b1753f981a>\u001b[0m in \u001b[0;36m<module>\u001b[0;34m\u001b[0m\n\u001b[1;32m     34\u001b[0m \u001b[0;31m# Fit parameters to ts1\u001b[0m\u001b[0;34m\u001b[0m\u001b[0;34m\u001b[0m\u001b[0;34m\u001b[0m\u001b[0m\n\u001b[1;32m     35\u001b[0m \u001b[0;32mfrom\u001b[0m \u001b[0mSBstoat\u001b[0m\u001b[0;34m.\u001b[0m\u001b[0mmodelFitter\u001b[0m \u001b[0;32mimport\u001b[0m \u001b[0mModelFitter\u001b[0m\u001b[0;34m\u001b[0m\u001b[0;34m\u001b[0m\u001b[0m\n\u001b[0;32m---> 36\u001b[0;31m \u001b[0mfitter\u001b[0m \u001b[0;34m=\u001b[0m \u001b[0mModelFitter\u001b[0m\u001b[0;34m(\u001b[0m\u001b[0mANTIMONY_MODEL\u001b[0m\u001b[0;34m,\u001b[0m \u001b[0minput_file\u001b[0m\u001b[0;34m,\u001b[0m \u001b[0;34m[\u001b[0m\u001b[0;34m\"beta\"\u001b[0m\u001b[0;34m,\u001b[0m\u001b[0;34m\"kappa\"\u001b[0m\u001b[0;34m,\u001b[0m\u001b[0;34m\"delta\"\u001b[0m\u001b[0;34m,\u001b[0m\u001b[0;34m\"p\"\u001b[0m\u001b[0;34m,\u001b[0m\u001b[0;34m\"c\"\u001b[0m\u001b[0;34m]\u001b[0m\u001b[0;34m)\u001b[0m\u001b[0;34m\u001b[0m\u001b[0;34m\u001b[0m\u001b[0m\n\u001b[0m\u001b[1;32m     37\u001b[0m \u001b[0mfitter\u001b[0m\u001b[0;34m.\u001b[0m\u001b[0mfitModel\u001b[0m\u001b[0;34m(\u001b[0m\u001b[0;34m)\u001b[0m\u001b[0;34m\u001b[0m\u001b[0;34m\u001b[0m\u001b[0m\n\u001b[1;32m     38\u001b[0m \u001b[0mprint\u001b[0m\u001b[0;34m(\u001b[0m\u001b[0mfitter\u001b[0m\u001b[0;34m.\u001b[0m\u001b[0mreportFit\u001b[0m\u001b[0;34m(\u001b[0m\u001b[0;34m)\u001b[0m\u001b[0;34m)\u001b[0m\u001b[0;34m\u001b[0m\u001b[0;34m\u001b[0m\u001b[0m\n",
      "\u001b[0;32m~/SBstoat/SBstoat/_modelFitterCore.py\u001b[0m in \u001b[0;36m__init__\u001b[0;34m(self, modelSpecification, observedData, parametersToFit, selectedColumns, method, parameterLowerBound, parameterUpperBound, isPlot)\u001b[0m\n\u001b[1;32m     74\u001b[0m         \u001b[0mself\u001b[0m\u001b[0;34m.\u001b[0m\u001b[0mLowerBound\u001b[0m \u001b[0;34m=\u001b[0m \u001b[0mparameterLowerBound\u001b[0m\u001b[0;34m\u001b[0m\u001b[0;34m\u001b[0m\u001b[0m\n\u001b[1;32m     75\u001b[0m         \u001b[0mself\u001b[0m\u001b[0;34m.\u001b[0m\u001b[0mUpperBound\u001b[0m \u001b[0;34m=\u001b[0m \u001b[0mparameterUpperBound\u001b[0m\u001b[0;34m\u001b[0m\u001b[0;34m\u001b[0m\u001b[0m\n\u001b[0;32m---> 76\u001b[0;31m         \u001b[0mself\u001b[0m\u001b[0;34m.\u001b[0m\u001b[0mobservedTS\u001b[0m \u001b[0;34m=\u001b[0m \u001b[0mmkNamedTimeseries\u001b[0m\u001b[0;34m(\u001b[0m\u001b[0mobservedData\u001b[0m\u001b[0;34m)\u001b[0m\u001b[0;34m\u001b[0m\u001b[0;34m\u001b[0m\u001b[0m\n\u001b[0m\u001b[1;32m     77\u001b[0m         \u001b[0;32mif\u001b[0m \u001b[0mselectedColumns\u001b[0m \u001b[0;32mis\u001b[0m \u001b[0;32mNone\u001b[0m\u001b[0;34m:\u001b[0m\u001b[0;34m\u001b[0m\u001b[0;34m\u001b[0m\u001b[0m\n\u001b[1;32m     78\u001b[0m             \u001b[0mselectedColumns\u001b[0m \u001b[0;34m=\u001b[0m \u001b[0mself\u001b[0m\u001b[0;34m.\u001b[0m\u001b[0mobservedTS\u001b[0m\u001b[0;34m.\u001b[0m\u001b[0mcolnames\u001b[0m\u001b[0;34m\u001b[0m\u001b[0;34m\u001b[0m\u001b[0m\n",
      "\u001b[0;32m~/SBstoat/SBstoat/namedTimeseries.py\u001b[0m in \u001b[0;36mmkNamedTimeseries\u001b[0;34m(*args)\u001b[0m\n\u001b[1;32m     61\u001b[0m             \u001b[0;32mreturn\u001b[0m \u001b[0margs\u001b[0m\u001b[0;34m[\u001b[0m\u001b[0;36m0\u001b[0m\u001b[0;34m]\u001b[0m\u001b[0;34m\u001b[0m\u001b[0;34m\u001b[0m\u001b[0m\n\u001b[1;32m     62\u001b[0m         \u001b[0;32melif\u001b[0m \u001b[0misinstance\u001b[0m\u001b[0;34m(\u001b[0m\u001b[0margs\u001b[0m\u001b[0;34m[\u001b[0m\u001b[0;36m0\u001b[0m\u001b[0;34m]\u001b[0m\u001b[0;34m,\u001b[0m \u001b[0mstr\u001b[0m\u001b[0;34m)\u001b[0m\u001b[0;34m:\u001b[0m\u001b[0;34m\u001b[0m\u001b[0;34m\u001b[0m\u001b[0m\n\u001b[0;32m---> 63\u001b[0;31m             \u001b[0;32mreturn\u001b[0m \u001b[0mNamedTimeseries\u001b[0m\u001b[0;34m(\u001b[0m\u001b[0mcsvPath\u001b[0m\u001b[0;34m=\u001b[0m\u001b[0margs\u001b[0m\u001b[0;34m[\u001b[0m\u001b[0;36m0\u001b[0m\u001b[0;34m]\u001b[0m\u001b[0;34m)\u001b[0m\u001b[0;34m\u001b[0m\u001b[0;34m\u001b[0m\u001b[0m\n\u001b[0m\u001b[1;32m     64\u001b[0m     raise ValueError(\"Specification for NameTimeseries: %s\"\n\u001b[1;32m     65\u001b[0m           % str(args))\n",
      "\u001b[0;32m~/SBstoat/SBstoat/namedTimeseries.py\u001b[0m in \u001b[0;36m__init__\u001b[0;34m(self, csvPath, colnames, array, namedArray, dataframe, timeseries)\u001b[0m\n\u001b[1;32m    157\u001b[0m             \u001b[0mtimeIdxs\u001b[0m \u001b[0;34m=\u001b[0m \u001b[0;34m[\u001b[0m\u001b[0mi\u001b[0m \u001b[0;32mfor\u001b[0m \u001b[0mi\u001b[0m\u001b[0;34m,\u001b[0m \u001b[0mc\u001b[0m \u001b[0;32min\u001b[0m \u001b[0menumerate\u001b[0m\u001b[0;34m(\u001b[0m\u001b[0mallColnames\u001b[0m\u001b[0;34m)\u001b[0m \u001b[0;32mif\u001b[0m \u001b[0mc\u001b[0m\u001b[0;34m.\u001b[0m\u001b[0mlower\u001b[0m\u001b[0;34m(\u001b[0m\u001b[0;34m)\u001b[0m \u001b[0;34m==\u001b[0m \u001b[0mTIME\u001b[0m\u001b[0;34m]\u001b[0m\u001b[0;34m\u001b[0m\u001b[0;34m\u001b[0m\u001b[0m\n\u001b[1;32m    158\u001b[0m             \u001b[0;32mif\u001b[0m \u001b[0mlen\u001b[0m\u001b[0;34m(\u001b[0m\u001b[0mtimeIdxs\u001b[0m\u001b[0;34m)\u001b[0m \u001b[0;34m!=\u001b[0m \u001b[0;36m1\u001b[0m\u001b[0;34m:\u001b[0m\u001b[0;34m\u001b[0m\u001b[0;34m\u001b[0m\u001b[0m\n\u001b[0;32m--> 159\u001b[0;31m                 \u001b[0;32mraise\u001b[0m \u001b[0mValueError\u001b[0m\u001b[0;34m(\u001b[0m\u001b[0;34m\"Must have exactly one time column\"\u001b[0m\u001b[0;34m)\u001b[0m\u001b[0;34m\u001b[0m\u001b[0;34m\u001b[0m\u001b[0m\n\u001b[0m\u001b[1;32m    160\u001b[0m             \u001b[0mallColnames\u001b[0m\u001b[0;34m[\u001b[0m\u001b[0mtimeIdxs\u001b[0m\u001b[0;34m[\u001b[0m\u001b[0;36m0\u001b[0m\u001b[0;34m]\u001b[0m\u001b[0;34m]\u001b[0m \u001b[0;34m=\u001b[0m \u001b[0mTIME\u001b[0m\u001b[0;34m\u001b[0m\u001b[0;34m\u001b[0m\u001b[0m\n\u001b[1;32m    161\u001b[0m             \u001b[0mself\u001b[0m\u001b[0;34m.\u001b[0m\u001b[0mallColnames\u001b[0m \u001b[0;34m=\u001b[0m \u001b[0;34m[\u001b[0m\u001b[0;34m]\u001b[0m  \u001b[0;31m# all column names\u001b[0m\u001b[0;34m\u001b[0m\u001b[0;34m\u001b[0m\u001b[0m\n",
      "\u001b[0;31mValueError\u001b[0m: Must have exactly one time column"
     ]
    }
   ],
   "source": [
    "# V vs time (days)\n",
    "\n",
    "\n",
    "# data section ============================================\n",
    "\n",
    "# All viral data is in log10(load),...\n",
    "# log10(load predicted by model) may be needed for data fitting\n",
    "\n",
    "\n",
    "#Influenza.csv\n",
    "# Influenza A data - 5 patients\n",
    "# viral levels in log10(TCID50 / ml of nasal wash)\n",
    "# time in days since volunteer exposure\n",
    "# each line in the array is an individual volunteer\n",
    "\n",
    "\n",
    "\n",
    "#SARS_CoV2_sputum.csv and SARS_CoV2_nasal.csv\n",
    "# SARS-CoV-2 data - 9 patients,\n",
    "# for each patient - viral loads from lungs (sputum) and from nasal cavity (swab)\n",
    "# viral levels in log10(RNA copies / ml sputum), ...\n",
    "# respectively log10(RNA copies / nasal swab)\n",
    "# time in days since symptoms onset\n",
    "# corresponding lines in the two arrays belong to an individual patient\n",
    "\n",
    "\n",
    "\n",
    "#SARS.csv\n",
    "# SARS data recorded from 12 patients;\n",
    "# included them just for comparison, probably too few datapoints for model inference\n",
    "# viral levels in log10(RNA copies / ml of nasopharingeal aspirate)\n",
    "# time - only three samples per patient, at 5, 10 and 15 days post symptoms onset\n",
    "\n",
    "# Fit parameters to ts1\n",
    "from SBstoat.modelFitter import ModelFitter\n",
    "fitter = ModelFitter(ANTIMONY_MODEL, input_file, [\"beta\",\"kappa\",\"delta\",\"p\",\"c\"])\n",
    "fitter.fitModel()\n",
    "print(fitter.reportFit())\n",
    "\n",
    "fitter.plotFitAll(numRow=2, numCol=2)\n",
    "fitter.plotResiduals(numRow=2, numCol=2)\n",
    "\n",
    "\n",
    "# Get estimates of parameters\n",
    "fitter.bootstrap(numIteration=2000, reportInterval=500)\n",
    "print(fitter.getFittedParameterStds())\n"
   ]
  }
 ],
 "metadata": {
  "kernelspec": {
   "display_name": "Python 3",
   "language": "python",
   "name": "python3"
  },
  "language_info": {
   "codemirror_mode": {
    "name": "ipython",
    "version": 3
   },
   "file_extension": ".py",
   "mimetype": "text/x-python",
   "name": "python",
   "nbconvert_exporter": "python",
   "pygments_lexer": "ipython3",
   "version": "3.6.9"
  }
 },
 "nbformat": 4,
 "nbformat_minor": 4
}
